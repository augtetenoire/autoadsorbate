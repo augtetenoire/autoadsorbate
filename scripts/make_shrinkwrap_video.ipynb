{
 "cells": [
  {
   "cell_type": "code",
   "execution_count": 6,
   "id": "60063ebc",
   "metadata": {},
   "outputs": [],
   "source": [
    "from autoadsorbate import Surface\n",
    "from ase.build import fcc211\n",
    "from ase.constraints import FixAtoms\n",
    "from ase.visualize import view\n",
    "from ase import Atom, Atoms\n",
    "import numpy as np\n",
    "\n",
    "from autoadsorbate.Surf import _get_starting_grid, get_shrinkwrap_grid, shrinkwrap_surface\n",
    "from autoadsorbate.utils import get_blenderized"
   ]
  },
  {
   "cell_type": "code",
   "execution_count": 7,
   "id": "062529d7",
   "metadata": {},
   "outputs": [],
   "source": [
    "def interpolate_neb_trajectory(atoms_a, atoms_b, image_no = 5):\n",
    "    \"\"\"helper funct to quickly make linear interpolations\"\"\"\n",
    "    from ase.mep import interpolate\n",
    "    \n",
    "    if len(atoms_a) != len(atoms_b): # Safety checks\n",
    "        raise ValueError(\"Atoms objects must have the same number of atoms.\")\n",
    "    if atoms_a.get_chemical_symbols() != atoms_b.get_chemical_symbols():\n",
    "        raise ValueError(\"Atoms must have the same atomic symbols in the same order.\")\n",
    "    \n",
    "    images = [atoms_a.copy()]\n",
    "    for _ in range(image_no):\n",
    "        images.append(atoms_a.copy())\n",
    "    images.append(atoms_b.copy())\n",
    "    interpolate(images)\n",
    "    return images\n",
    "\n",
    "def frames_from_info(info):\n",
    "    out = interpolate_neb_trajectory(\n",
    "        atoms_a=info['traj'][0],\n",
    "        atoms_b=info['traj'][-1],\n",
    "        image_no = info['frames_repeat']\n",
    "        )\n",
    "    return out"
   ]
  },
  {
   "cell_type": "markdown",
   "id": "48f630d5",
   "metadata": {},
   "source": [
    "## make an \"easy to read\" but interesting slab"
   ]
  },
  {
   "cell_type": "code",
   "execution_count": 8,
   "id": "4d17a59f",
   "metadata": {},
   "outputs": [],
   "source": [
    "prec = 0.3\n",
    "tss = 2.2\n",
    "\n",
    "slab = fcc211('Cu', size=[6,3,4], vacuum=10)\n",
    "slab.positions[:,0]+=2\n",
    "slab.wrap()\n",
    "\n",
    "# get surface, sub surface and sub sub surface\n",
    "# maybe useful method for the Surface class?\n",
    "motv = [0,0,10] #move_out_of_the_way_vector\n",
    "surf_inds = shrinkwrap_surface(slab)\n",
    "slab.positions-= [motv if atom.index in surf_inds else [0,0,0]  for atom in slab]\n",
    "sub_surf_inds = shrinkwrap_surface(slab)\n",
    "slab.positions-= [motv if atom.index in sub_surf_inds else [0,0,0]  for atom in slab]\n",
    "sub_sub_surf_inds = shrinkwrap_surface(slab)\n",
    "\n",
    "slab.positions+=[motv if atom.index in list(surf_inds)+list(sub_surf_inds) else [0,0,0]  for atom in slab]\n",
    "\n",
    "unfrozen = list(surf_inds)+list(sub_surf_inds)+list(sub_sub_surf_inds)\n",
    "\n",
    "for i in unfrozen:\n",
    "    view_slab = slab.copy()\n",
    "    view_slab[i].symbol ='Zn'\n",
    "# view(slab)\n",
    "\n",
    "slab.set_constraint(FixAtoms(indices=[atom.index for atom in slab if atom.index not in unfrozen]))\n",
    "slab.rattle(stdev=0.2)"
   ]
  },
  {
   "cell_type": "code",
   "execution_count": 5,
   "id": "cbdd40b7",
   "metadata": {},
   "outputs": [
    {
     "data": {
      "text/plain": [
       "<Popen: returncode: None args: ['/home/djrm/venv/mace_env/bin/python', '-m',...>"
      ]
     },
     "execution_count": 5,
     "metadata": {},
     "output_type": "execute_result"
    }
   ],
   "source": [
    "view(slab)"
   ]
  },
  {
   "cell_type": "markdown",
   "id": "2cff2732",
   "metadata": {},
   "source": [
    "## Init Surface object"
   ]
  },
  {
   "cell_type": "code",
   "execution_count": 9,
   "id": "1da2e99b",
   "metadata": {},
   "outputs": [
    {
     "name": "stdout",
     "output_type": "stream",
     "text": [
      "Visualizing surface Cu atoms as Zn\n"
     ]
    }
   ],
   "source": [
    "s = Surface(slab, precision=prec, touch_sphere_size=tss)\n",
    "marked_surface = s.view_surface(return_atoms=True)"
   ]
  },
  {
   "cell_type": "markdown",
   "id": "21daaad1",
   "metadata": {},
   "source": [
    "## prep assets for render"
   ]
  },
  {
   "cell_type": "code",
   "execution_count": 10,
   "id": "208dfa35",
   "metadata": {},
   "outputs": [],
   "source": [
    "starting_grid = _get_starting_grid(slab, precision=prec)\n",
    "\n",
    "high_grid = starting_grid.copy()\n",
    "high_grid.positions[:,2] += (high_grid.positions[:,0]+4)**1.1 #high_grid.positions[:,0] + 10\n",
    "high_grid.positions[:,2] += (high_grid.positions[:,1]+3)**2*0.1 #high_grid.positions[:,0] \n",
    "\n",
    "\n",
    "grid = get_shrinkwrap_grid(slab, precision=prec, touch_sphere_size=tss)\n"
   ]
  },
  {
   "cell_type": "code",
   "execution_count": 23,
   "id": "a8be1cda",
   "metadata": {},
   "outputs": [],
   "source": [
    "# view([s.view_site(i, return_atoms=True) for i in s.site_df.index.values])\n",
    "site = s.view_site(39, return_atoms=True)\n",
    "site_vector = site[[atom.index for atom in site if atom.symbol != 'Fe']]\n",
    "for atom in site_vector:\n",
    "    atom.symbol = 'H'\n",
    "    \n",
    "site = site[[atom.index for atom in site if atom.symbol == 'Cu']]\n",
    "for atom in site:\n",
    "    if atom.symbol=='Cu':\n",
    "        atom.symbol='Zn'\n",
    "\n",
    "hedgehog=slab.copy()[[]]\n",
    "for a in [s.view_site(i, return_atoms=True) for i in s.site_df.index.values]:\n",
    "    hedgehog+=a\n",
    "    \n",
    "hedgehog=hedgehog[[atom.index for atom in hedgehog if atom.symbol == 'X']]\n",
    "for atom in hedgehog:\n",
    "    atom.symbol='H'\n",
    "            \n",
    "site_marker = Atoms(['Pt'], [site.info['coordinates']])\n",
    "site_sphere = Atoms(['Cd'], [site.info['coordinates']])\n",
    "\n",
    "site_blanket = grid[[atom.index for atom in grid if np.linalg.norm(atom.position-site.info['coordinates']) < tss *1.2]]\n",
    "for atom in site_blanket:\n",
    "    atom.symbol='H'\n",
    "    \n",
    "nvector_marker = site_blanket.copy()\n",
    "nvector_marker.positions = np.array([site_blanket.get_center_of_mass()])\n",
    "\n",
    "grid_marker = grid[[int(np.argmin(np.linalg.norm(grid.get_positions() - site_vector[-1].position, axis=1)))]]\n",
    "grid_marker[0].symbol = 'Br'\n",
    "\n",
    "grid_sphere = grid_marker.copy()\n",
    "grid_sphere[0].symbol = 'F'"
   ]
  },
  {
   "cell_type": "code",
   "execution_count": 24,
   "id": "ea03a3eb",
   "metadata": {},
   "outputs": [],
   "source": [
    "# view([site+hedgehog+site_marker+site_blanket+nvector_marker])\n",
    "# view([site+grid_marker])"
   ]
  },
  {
   "cell_type": "markdown",
   "id": "8a68d966",
   "metadata": {},
   "source": [
    "## directing the movie"
   ]
  },
  {
   "cell_type": "code",
   "execution_count": 25,
   "id": "54845d7a",
   "metadata": {},
   "outputs": [],
   "source": [
    "rslab = marked_surface #+ slab\n",
    "\n",
    "fps = 24\n",
    "def stofps(s):\n",
    "    return max([1, int(-2+fps*s)])\n",
    "\n",
    "composition = [\n",
    "    {'traj': [\n",
    "        slab+high_grid,\n",
    "        slab+starting_grid\n",
    "        ], 'frames_repeat':100},               # drop grid\n",
    "    {'traj': [\n",
    "        slab+starting_grid,\n",
    "        slab+grid\n",
    "        ], 'frames_repeat':100},               #shrinkwrap         \n",
    "    {'traj': [\n",
    "        marked_surface+grid+grid_marker,\n",
    "        marked_surface+grid+grid_marker\n",
    "              ], 'frames_repeat':50},       \n",
    "    {'traj': [\n",
    "        slab+grid+grid_marker+grid_sphere+site,\n",
    "        slab+grid+grid_marker+grid_sphere+site\n",
    "        ], 'frames_repeat':50},\n",
    "    {'traj': [\n",
    "        slab+grid+site+site_marker,\n",
    "        slab+grid+site+site_marker\n",
    "        ], 'frames_repeat':50},\n",
    "    {'traj': [\n",
    "        slab+grid+site+site_marker+site_sphere+site_blanket,\n",
    "        slab+grid+site+site_marker+site_sphere+nvector_marker\n",
    "        ], 'frames_repeat':100}, \n",
    "    {'traj': [\n",
    "        slab+site+site_vector,\n",
    "        slab+site+site_vector\n",
    "        ], 'frames_repeat':50},\n",
    "    {'traj': [\n",
    "        marked_surface+hedgehog,\n",
    "        marked_surface+hedgehog\n",
    "        ], 'frames_repeat':100}\n",
    "    \n",
    "]\n",
    "\n",
    "render_traj = []\n",
    "\n",
    "for info in composition:\n",
    "    render_traj += frames_from_info(info)"
   ]
  },
  {
   "cell_type": "code",
   "execution_count": null,
   "id": "be304756",
   "metadata": {},
   "outputs": [],
   "source": [
    "from ase.io import write\n",
    "render_traj = get_blenderized(render_traj, hide_spot=[0,0,0])\n",
    "write('./render_traj.xyz', render_traj)"
   ]
  },
  {
   "cell_type": "code",
   "execution_count": 22,
   "id": "f96123f0",
   "metadata": {},
   "outputs": [
    {
     "data": {
      "text/plain": [
       "<Popen: returncode: None args: ['/home/djrm/venv/mace_env/bin/python', '-m',...>"
      ]
     },
     "execution_count": 22,
     "metadata": {},
     "output_type": "execute_result"
    }
   ],
   "source": [
    "view(render_traj)\n",
    "# view(high_grid)"
   ]
  },
  {
   "cell_type": "code",
   "execution_count": null,
   "id": "6d1f4a12",
   "metadata": {},
   "outputs": [],
   "source": []
  }
 ],
 "metadata": {
  "kernelspec": {
   "display_name": "mace_env",
   "language": "python",
   "name": "python3"
  },
  "language_info": {
   "codemirror_mode": {
    "name": "ipython",
    "version": 3
   },
   "file_extension": ".py",
   "mimetype": "text/x-python",
   "name": "python",
   "nbconvert_exporter": "python",
   "pygments_lexer": "ipython3",
   "version": "3.12.3"
  }
 },
 "nbformat": 4,
 "nbformat_minor": 5
}
