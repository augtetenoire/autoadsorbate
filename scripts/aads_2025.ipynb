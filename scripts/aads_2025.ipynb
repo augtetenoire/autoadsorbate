{
 "cells": [
  {
   "cell_type": "markdown",
   "id": "ff5c06ac-0527-4158-92c6-2a5cd7e549e6",
   "metadata": {},
   "source": [
    "## init"
   ]
  },
  {
   "cell_type": "code",
   "execution_count": 3,
   "id": "1b3f770d-d1a5-4498-a508-be4469a8970c",
   "metadata": {},
   "outputs": [],
   "source": [
    "%load_ext autoreload\n",
    "%autoreload 2"
   ]
  },
  {
   "cell_type": "code",
   "execution_count": 4,
   "id": "cd5c4cd6-d15b-4ad3-89b0-200610d1c960",
   "metadata": {},
   "outputs": [],
   "source": [
    "from ase.io import read, write\n",
    "from ase.visualize import view\n",
    "from ase.visualize.plot import plot_atoms\n",
    "from ase.build.tools import sort as sort_atoms\n",
    "from matplotlib import colors as mcolors\n",
    "\n",
    "# import sys\n",
    "# sys.path.insert(0, '/home/djrm/git/hetcattoolbox')\n",
    "\n",
    "from glob import glob\n",
    "import pandas as pd\n",
    "import numpy as np\n",
    "import ast\n",
    "\n",
    "from ase.build.tools import sort"
   ]
  },
  {
   "cell_type": "code",
   "execution_count": 5,
   "id": "67a98c50-f0d3-49e4-a4d8-183afe68d572",
   "metadata": {},
   "outputs": [],
   "source": [
    "from autoadsorbate.string_utils import _example_config, _show_ussage, construct_smiles, xx_get_special_symbols\n",
    "from autoadsorbate.autoadsorbate import Fragment, Surface\n",
    "from autoadsorbate.Surf import conformer_to_site\n",
    "from autoadsorbate.utils import get_backbone_bond_change,read_relax_traj,  read_relax_dir, compute_energy, snap_pos_compare\n",
    "from autoadsorbate.utils import _compare_pos, slice_traj_by_formula,  get_drop_snapped, count_C_next_to_O\n",
    "from autoadsorbate.plotting import *"
   ]
  },
  {
   "cell_type": "code",
   "execution_count": 3,
   "id": "8336e99e-5921-4b65-863a-a6adb2976e85",
   "metadata": {},
   "outputs": [],
   "source": [
    "import seaborn as sns\n",
    "import plotly.express as px\n",
    "import matplotlib.pyplot as plt\n",
    "import matplotlib.font_manager\n",
    "plt.rcParams[\"font.family\"] = \"Arial\""
   ]
  },
  {
   "cell_type": "markdown",
   "id": "56052012",
   "metadata": {},
   "source": [
    "## read data"
   ]
  },
  {
   "cell_type": "code",
   "execution_count": null,
   "id": "77fd6134",
   "metadata": {},
   "outputs": [],
   "source": [
    "relaxed_traj = read('./collect_data/relaxed_traj.xyz', index=':')\n",
    "rdf = pd.read_csv('./collect_data/data_rdf.csv')\n",
    "\n",
    "_tmp = {}\n",
    "for k in ast.literal_eval(rdf.slab_info.values[0]).keys():\n",
    "    _tmp[k] = [ast.literal_eval(d)[k] for d in rdf.slab_info.values]\n",
    "    rdf[k] = _tmp[k]\n",
    "\n",
    "pid = rdf['mpid'] + '-' + rdf['mi'] + '-' + rdf['iterm'].astype(str) #[f\"{ast.literal_eval(d)['mpid']}_{ast.literal_eval(d)['mi']}_{ast.literal_eval(d)['iterm']}\" for d in rdf.slab_info.values]\n",
    "rdf['pid'] = pid"
   ]
  },
  {
   "cell_type": "code",
   "execution_count": null,
   "id": "d3d72c0c",
   "metadata": {},
   "outputs": [],
   "source": [
    "import json\n",
    "with open('./collect_data/identifiers.json') as f:\n",
    "    identifiers = json.load(f)\n",
    "smiles = [i.split('--')[1] for i in identifiers]"
   ]
  },
  {
   "cell_type": "code",
   "execution_count": null,
   "id": "21b48d06",
   "metadata": {},
   "outputs": [],
   "source": [
    "from mace.calculators import mace_mp\n",
    "\n",
    "parent_en = {}\n",
    "for pid in rdf.pid.unique():\n",
    "    traj_index = rdf[rdf.pid.isin([pid])].traj_index.iloc[0]\n",
    "    atoms = relaxed_traj[traj_index].copy()\n",
    "    ref_atoms = atoms[[atom.index for atom in atoms if atoms.arrays['fragments'][atom.index] == 0]]\n",
    "    calc = mace_mp(model='./models/mace-mp-0b3-medium.model', dispersion=True, device='cpu')\n",
    "    ref_atoms.set_calculator(calc)\n",
    "    parent_en[pid] = ref_atoms.get_potential_energy()\n",
    "    ref_atoms.info={'pid': pid}\n",
    "\n",
    "ref_dict={\n",
    "    'C' : 0,\n",
    "    'O' : 0,\n",
    "    'H' : 0\n",
    "}\n",
    "\n",
    "# parent_en = read('./relax_Cu111_Cu2_try2/MACE_relax_Cu111_Cu2_slab.xyz', index=-1).get_potential_energy()\n",
    "\n",
    "xdf = compute_energy(rdf, ref_dict, parent_en)\n",
    "# xdf = xdf[xdf['energy']>-100]"
   ]
  },
  {
   "cell_type": "code",
   "execution_count": null,
   "id": "77d5ec96",
   "metadata": {},
   "outputs": [],
   "source": [
    "bkp_xdf = xdf.copy()"
   ]
  },
  {
   "cell_type": "markdown",
   "id": "839ddb83",
   "metadata": {},
   "source": [
    "## chemiscope"
   ]
  },
  {
   "cell_type": "code",
   "execution_count": null,
   "id": "e62d874c",
   "metadata": {},
   "outputs": [],
   "source": [
    "chemiscope.write_input(\n",
    "    frames=[center_fragment_in_cell(relaxed_traj[i], fragment_inds=[1]) for i in _xdf.traj_index.values],\n",
    "    properties=_xdf.to_dict(orient='list'),\n",
    "    path='chemiscope_input.json'\n",
    "    # mode='default',\n",
    ")"
   ]
  },
  {
   "cell_type": "markdown",
   "id": "274a0cef-86fd-4ec0-8967-aafb6f70769f",
   "metadata": {},
   "source": [
    "### plot atoms"
   ]
  },
  {
   "cell_type": "code",
   "execution_count": null,
   "id": "d55bc893-158f-445c-b8b7-3d237adbab62",
   "metadata": {},
   "outputs": [],
   "source": [
    "plot_most_stable(_xdf, relaxed_traj)"
   ]
  },
  {
   "cell_type": "code",
   "execution_count": null,
   "id": "e5c21bb6",
   "metadata": {},
   "outputs": [],
   "source": [
    "make_hist_plot(_xdf)"
   ]
  },
  {
   "cell_type": "code",
   "execution_count": null,
   "id": "724b8ab7",
   "metadata": {},
   "outputs": [],
   "source": [
    "ax, heat_map = plot_energy_heatmap(_xdf,\n",
    "                    column = 'energy_calibrated',\n",
    "                    std = 0.05,\n",
    "                    e_min=-0.1,\n",
    "                    e_max=3,\n",
    "                    resolution='auto',\n",
    "                    normalize=True,\n",
    "                    return_heatmap=True,\n",
    "                    T=True,\n",
    "                    cmap = \"Blues\"\n",
    "                    )"
   ]
  },
  {
   "cell_type": "code",
   "execution_count": null,
   "id": "944f7bcd",
   "metadata": {},
   "outputs": [],
   "source": [
    "ax, heat_map = plot_energy_heatmap(_xdf,\n",
    "                    column = 'energy_calibrated',\n",
    "                    std = 0.05,\n",
    "                    # e_max=_xdf.energy_calibrated.max()+5*std,\n",
    "                    # e_min=_xdf.energy_calibrated.min()-5*std,\n",
    "                    e_min=-0.1,\n",
    "                    e_max=3,\n",
    "                    resolution='auto',\n",
    "                    normalize=False,\n",
    "                    return_heatmap=True,\n",
    "                    T=True)"
   ]
  },
  {
   "cell_type": "markdown",
   "id": "b83d7c71",
   "metadata": {},
   "source": [
    "## paper prep"
   ]
  },
  {
   "cell_type": "code",
   "execution_count": null,
   "id": "bd05990b",
   "metadata": {},
   "outputs": [],
   "source": [
    "def plot_energy_heatmap(_xdf, column, std, e_min, e_max, resolution, normalize,\n",
    "                        return_heatmap=False, T=False, cmap ='viridis', normalize_mode='max', ax=None):\n",
    "    heat_map = []\n",
    "    yticklabels = []\n",
    "    \n",
    "\n",
    "    for i, backbone in enumerate(_xdf.backbone.unique()):\n",
    "        for j, H in enumerate(_xdf.H.unique()):\n",
    "            df_slice = _xdf[_xdf.H.isin([H]) & _xdf.backbone.isin([backbone])]\n",
    "            if len(df_slice) > 0:\n",
    "                v = energy_descriptor_from_slice(\n",
    "                        df_slice,\n",
    "                        column=column,\n",
    "                        std=std,\n",
    "                        e_min=e_min,\n",
    "                        e_max=e_max,\n",
    "                        resolution=resolution,\n",
    "                        normalize=normalize,\n",
    "                        normalize_mode=normalize_mode\n",
    "                    )\n",
    "                heat_map.append(v[1])  \n",
    "                yticklabels.append(df_slice.calibrate_keys.values[0])\n",
    "    heat_map = np.array(heat_map)\n",
    "\n",
    "    xticklabels = []\n",
    "    wanted_labels = np.arange(-10, 10, 0.4)\n",
    "    for i, e in enumerate(v[0]):\n",
    "        if any(np.abs(e - wanted_labels) < 1e-2):\n",
    "            label = str(np.round(e, 1))\n",
    "            if label not in xticklabels + ['-0.0']:\n",
    "                xticklabels.append(label)\n",
    "            else:\n",
    "                xticklabels.append('')\n",
    "            \n",
    "        else:\n",
    "            xticklabels.append('')\n",
    "\n",
    "    if ax == None:\n",
    "        fig = plt.figure()\n",
    "        ax=fig.add_subplot(111)\n",
    "    if T==False:\n",
    "        sns.heatmap(heat_map, xticklabels=xticklabels, yticklabels=yticklabels, cbar=False, ax=ax)\n",
    "        for i in range(heat_map.shape[0]+1):\n",
    "            ax.axhline(i, color='white', lw=2 )\n",
    "    \n",
    "    else:\n",
    "        ax = sns.heatmap(heat_map.T, xticklabels=yticklabels, yticklabels=xticklabels, cbar=False, cmap=cmap, ax=ax)   \n",
    "        for i in range(heat_map.shape[1]+1):\n",
    "            ax.axvline(i, color='white', lw=0.5)\n",
    "    \n",
    "    ax.tick_params(axis='both', which='both', length=0)\n",
    "    ax.tick_params(axis='x', labelsize=6)\n",
    "    ax.tick_params(axis='y', labelsize=6)\n",
    "    ax.invert_yaxis()\n",
    "    \n",
    "    if return_heatmap:\n",
    "        return heat_map"
   ]
  },
  {
   "cell_type": "markdown",
   "id": "5ab8bee6",
   "metadata": {},
   "source": [
    "## Figure SI"
   ]
  },
  {
   "cell_type": "code",
   "execution_count": null,
   "id": "422b58b7",
   "metadata": {},
   "outputs": [],
   "source": [
    "xdf = bkp_xdf.copy()\n",
    "# xdf = xdf[(xdf.material_formula == 'Cu') & xdf.mi.isin(['1#1#1','1#0#0'])]\n",
    "_xdf = filter_xdf(xdf, relaxed_traj)"
   ]
  },
  {
   "cell_type": "code",
   "execution_count": null,
   "id": "4824efbb",
   "metadata": {},
   "outputs": [],
   "source": [
    "traj_xdf = [relaxed_traj[i] for i in _xdf.traj_index.values]\n",
    "write('./traj_xdf_11032025.xyz', traj_xdf)"
   ]
  },
  {
   "cell_type": "code",
   "execution_count": null,
   "id": "1eb677e1",
   "metadata": {},
   "outputs": [],
   "source": [
    "font = {'size'   : 7}\n",
    "matplotlib.rc('font', **font)\n",
    "\n",
    "fig, axs = plt.subplots(len(_xdf.pid.unique()), 1, figsize=[7.2,5], sharex=True)\n",
    "\n",
    "for i, pid in enumerate(_xdf.pid.unique()):\n",
    "    sns.histplot(_xdf[_xdf.pid==pid], x='energy_calibrated', hue='pid', ax=axs[i], binrange=[0,8], binwidth=0.1)\n",
    "\n",
    "fig.set_layout_engine(layout='tight')\n",
    "fig"
   ]
  },
  {
   "cell_type": "code",
   "execution_count": null,
   "id": "de120d82",
   "metadata": {},
   "outputs": [],
   "source": [
    "# fig.savefig('figure_S_histogram.png', dpi=600)"
   ]
  },
  {
   "cell_type": "code",
   "execution_count": null,
   "id": "2f16ec10",
   "metadata": {},
   "outputs": [],
   "source": [
    "import itertools\n",
    "\n",
    "# for mi in rdf.mi.unique()[:1]:\n",
    "# for metal in rdf.material_formula.unique():\n",
    "for mi, metal in list(itertools.product(rdf.mi.unique(), rdf.material_formula.unique()))[:1]:\n",
    "   \n",
    "    print(mi)\n",
    "\n",
    "    xdf = bkp_xdf.copy()\n",
    "    # xdf = xdf[xdf.mi.isin([mi])]\n",
    "    xdf = xdf[xdf.material_formula == metal]\n",
    "    # xdf = xdf[(xdf.material_formula == metal) & xdf.mi.isin([mi])]\n",
    "    _xdf = filter_xdf(xdf, relaxed_traj)\n",
    "\n",
    "    fig, axs = plt.subplots(\n",
    "        ncols=len(_xdf.H.unique()),\n",
    "        nrows=len(_xdf.backbone.unique()),\n",
    "        figsize=[7.2,8]\n",
    "    )\n",
    "\n",
    "    _xdf = _xdf.sort_values(by=['H', 'backbone'])\n",
    "\n",
    "    view_atoms = []\n",
    "\n",
    "    for i, backbone in enumerate(_xdf.backbone.unique()):\n",
    "        for j, H in enumerate(_xdf.H.unique()):\n",
    "\n",
    "            ax = axs[i,j]\n",
    "            \n",
    "            df_slice = _xdf[_xdf.H.isin([H]) & _xdf.backbone.isin([backbone])]\n",
    "            # df_slice.sort_values(by=['energy', 'backbone', 'H'],ascending=True)\n",
    "            df_slice=df_slice[df_slice.energy==df_slice.energy.min()]\n",
    "            \n",
    "            if len(df_slice) > 0:\n",
    "                e = np.round(df_slice.iloc[0].energy,2)\n",
    "                origin = df_slice.iloc[0].origin\n",
    "                traj_index = df_slice.iloc[0].traj_index\n",
    "                \n",
    "                atoms = relaxed_traj[traj_index].copy()\n",
    "                atoms_center = get_fragment_center(atoms, fragment_index=1)\n",
    "                atoms_center[2]=0\n",
    "                half_cell = atoms.cell[1]*.5 + atoms.cell[0]*.5\n",
    "                atoms.positions += - atoms_center + half_cell\n",
    "                # atoms.positions += - atoms_center + (atoms.cell[0][0]+atoms.cell[1][0])*0.5 + (atoms.cell[0][1]+atoms.cell[1][1])*0.5\n",
    "                atoms.wrap()\n",
    "                # atoms.positions -= half_cell\n",
    "                                \n",
    "                plot_atoms(atoms, ax, rotation=('0x,0y,0z'), show_unit_cell=0)\n",
    "                # ax.set_title(atoms.info['adsorbate_info']['smiles'], size=8)\n",
    "\n",
    "                ax.set_title(df_slice.material_formula.iloc[0]+' '+f\"({df_slice.mi.iloc[0].replace('#','')})\", size=7)\n",
    "                \n",
    "            ax.set_axis_off()\n",
    "            # x = cell[0][0] + cell[1][0]\n",
    "            # y = cell[0][1] + cell[1][1]\n",
    "            ax.set_xlim((atoms.cell[0][0]+atoms.cell[1][0])*0.5-2.5, (atoms.cell[0][0]+atoms.cell[1][0])*0.5+4.5)\n",
    "            ax.set_ylim((atoms.cell[0][1]+atoms.cell[1][1])*0.5-2.1, (atoms.cell[0][1]+atoms.cell[1][1])*0.5+3.8)\n",
    "            \n",
    "            view_atoms.append(atoms)\n",
    "\n",
    "    fig.set_layout_engine(layout='tight')\n",
    "\n",
    "    # fig.savefig(f\"figure_S_{metal}{mi.replace('#','')}_most_stable.png\", dpi=600)\n",
    "    # fig.savefig(f\"figure_S_{mi.replace('#','')}_most_stable.png\", dpi=600)\n",
    "    # fig.savefig(f\"figure_S_{metal}_most_stable.png\", dpi=600)\n",
    "    # fig.savefig(f\"figure_S_most_stable.png\", dpi=600)\n",
    "    \n",
    "    "
   ]
  },
  {
   "cell_type": "markdown",
   "id": "d7259bad",
   "metadata": {},
   "source": [
    "## figure MS"
   ]
  },
  {
   "cell_type": "markdown",
   "id": "24179686",
   "metadata": {},
   "source": [
    "### fig2"
   ]
  },
  {
   "cell_type": "code",
   "execution_count": null,
   "id": "5f16b366",
   "metadata": {},
   "outputs": [],
   "source": [
    "xdf = bkp_xdf.copy()\n",
    "xdf = xdf[(xdf.material_formula == 'Pd') & xdf.mi.isin(['1#1#1'])]\n",
    "_xdf = filter_xdf(xdf, relaxed_traj)"
   ]
  },
  {
   "cell_type": "code",
   "execution_count": null,
   "id": "b7338700",
   "metadata": {},
   "outputs": [],
   "source": [
    "backbone_formulas = _xdf.backbone.unique()\n",
    "width_ratios = [len(_xdf[_xdf.backbone.isin([bckbone])].calibrate_keys.unique()) for bckbone in backbone_formulas] \n",
    "\n",
    "fig, axs = plt.subplots(1, len(backbone_formulas), figsize=[7.2, 2], sharex=False, sharey=True,\n",
    "                        gridspec_kw={'width_ratios': width_ratios}\n",
    "                        )\n",
    "\n",
    "num_dict = {}\n",
    "\n",
    "for i, bckbone in enumerate(backbone_formulas):\n",
    "    \n",
    "    ax = axs[i]\n",
    "\n",
    "    pdf = _xdf[_xdf.backbone.isin([bckbone])].copy()\n",
    "    pdf = pdf.sort_values(by=['calibrate_keys'])\n",
    "\n",
    "    calibrate_keys = []\n",
    "    for k in pdf.calibrate_keys.values:\n",
    "        k = k.replace('H0', '')\n",
    "        k = k.replace('H1', 'H')\n",
    "        k = k.replace('-', '')\n",
    "        for n in [str(_n) for _n in range(10)]:\n",
    "            k = k.replace(n, f'$_{n}$')\n",
    "        calibrate_keys.append(k)\n",
    "    \n",
    "    pdf['calibrate_keys'] = calibrate_keys\n",
    "\n",
    "    heat_map = plot_energy_heatmap(pdf,\n",
    "                        column = 'energy_calibrated',\n",
    "                        std = 0.05,\n",
    "                        e_min=-0.2,\n",
    "                        e_max=1.6,\n",
    "                        resolution='auto',\n",
    "                        normalize=True,\n",
    "                        normalize_mode='max',\n",
    "                        return_heatmap=True,\n",
    "                        cmap='plasma',\n",
    "                        T=True,\n",
    "                        ax=ax)\n",
    "    \n",
    "        # ax.set_title(f\"{pdf.material_formula.values[0]} ({mi.replace('#', '')})\", fontdict = {'fontsize': 8})\n",
    "    \n",
    "    ax.tick_params(top=True, labeltop=True, bottom=False, labelbottom=False)\n",
    "    ax.tick_params(\"x\", rotation=90)\n",
    "\n",
    "    if i==0:\n",
    "        ax.set_ylabel('E$_{ads}$ $_{rel}$ / eV', fontdict = {'fontsize': 7})\n",
    "    num_dict[f\"backbone\"] = heat_map\n",
    "\n",
    "fig.subplots_adjust(hspace=0.1, wspace=0.2)\n",
    "fig.set_layout_engine(layout='tight')"
   ]
  },
  {
   "cell_type": "code",
   "execution_count": null,
   "id": "e20ae26f",
   "metadata": {},
   "outputs": [],
   "source": [
    "fig.savefig('./energy_heatmap_Cu111_max.png', dpi=900)"
   ]
  },
  {
   "cell_type": "code",
   "execution_count": null,
   "id": "336487e3",
   "metadata": {},
   "outputs": [],
   "source": [
    "fig, axs = plt.subplots(2, 4, figsize=[7.2, 3], sharex=False, sharey=False, gridspec_kw={'height_ratios': [1, 2.5]}, layout='compressed')\n",
    "\n",
    "# e_is = [0.7, 0.5, 0.5, 0.2]\n",
    "e_is = [[0.,0.2,0.6,0.7],[0.,0.1,.2,.6],[0,.2,.5,.7],[0,0.2,0.4,1.]]\n",
    "perplexities = [20, 10, 15,15]\n",
    "\n",
    "plot_trj = []\n",
    "\n",
    "for j, ck in enumerate(['C2O-H4', 'CO-H2', 'CO2-H2', 'COC-H4']):\n",
    "    ax = axs[0, j]\n",
    "    pdf = _xdf[_xdf.calibrate_keys.isin([ck])].copy()\n",
    "\n",
    "    # for e in pdf.energy_calibrated.values:\n",
    "    e = pdf.energy_calibrated.values\n",
    "    energy_range, energy_values = get_gaussian_vectors(e, std = 0.05, e_min = -0.2, e_max = 1.6, resolution=0.001, normalize=True, normalize_mode='max')\n",
    "\n",
    "    print(len(e[e<1.6]))\n",
    "    for e_i in e[e<1.6]:\n",
    "        i = find_index_by_energy(e_i, energy_range)\n",
    "        ax.plot([energy_range[i], energy_range[i]], [energy_values[i], -1], linewidth=0.3, color='#ccccccff', alpha=0.6, zorder=0)\n",
    "    ax.plot(energy_range, energy_values, color='#ccccccff', alpha=1,zorder=0)\n",
    "    sns.scatterplot(x=energy_range, y=energy_values, hue=energy_values, alpha=1, ax=ax, legend=False, palette='plasma', markers='o', s=5, linewidth=0)\n",
    "    \n",
    "    # i = np.where(energy_values == np.max(energy_values))[0][0]\n",
    "    # e_i = energy_values[i]\n",
    "    # i = find_index_by_energy(e_i, pdf.energy_calibrated.values, _thr=0.3)\n",
    "    # e_i = pdf.energy_calibrated.values[i]\n",
    "    # i = find_index_by_energy(e_i, energy_range)\n",
    "    # ax.plot([energy_range[i], energy_range[i]], [energy_values[i], -1], linewidth=0.5, color='black', alpha=1, zorder=10, marker='o', markersize=2)\n",
    "\n",
    "    \n",
    "    _pdf = pdf[pdf['energy_calibrated']==pdf['energy_calibrated'].min()]\n",
    "    # plot_trj.append(relaxed_traj[_pdf.traj_index.values[0]])\n",
    "    \n",
    "    # e_i = _pdf.energy_calibrated.values[0]\n",
    "    # i = find_index_by_energy(e_i, energy_range)\n",
    "    # ax.plot([energy_range[i], energy_range[i]], [energy_values[i], -1], linewidth=0.5, color='black', alpha=1, zorder=10, marker='o', markersize=5)\n",
    "    \n",
    "    for x in e_is[j]:\n",
    "        _pdf = pdf[pdf.energy_calibrated > x]\n",
    "        _pdf = _pdf[_pdf['energy_calibrated']==_pdf['energy_calibrated'].min()]\n",
    "        \n",
    "        e_i = _pdf.energy_calibrated.values[0]\n",
    "        \n",
    "        smiles = _pdf.smiles.values[0]\n",
    "        _a = relaxed_traj[_pdf.traj_index.values[0]].copy()\n",
    "        _a.info['smiles'] = smiles\n",
    "        plot_trj.append(_a)\n",
    "\n",
    "        i = find_index_by_energy(e_i, energy_range)\n",
    "        ax.plot([energy_range[i], energy_range[i]], [energy_values[i], -1], linewidth=0.5, color='black', alpha=1, zorder=20, marker='x', markersize=5, mfc='none')\n",
    "    \n",
    "\n",
    "    ax.tick_params(axis='y', which='both', length=0)\n",
    "    ax.tick_params(axis='x', which='both', length=2)\n",
    "    ax.tick_params(axis='x', labelsize=6)\n",
    "    ax.tick_params(axis='y', labelsize=6)\n",
    "\n",
    "    ax.set_xlabel('E$_{ads}$ $_{rel}$ / eV', fontdict = {'fontsize': 7})\n",
    "    if j == 0:\n",
    "        ax.set_ylabel('DOS$_{ads}$', fontdict = {'fontsize': 7})\n",
    "    ax.get_yaxis().set_ticklabels([])\n",
    "    ax.set_ylim([-0.01, 1.1])\n",
    "    ax.set_xlim([-0.2, 1.6])\n",
    "\n",
    "    ax = axs[1, j]\n",
    "    c_trj = [relaxed_traj[i] for i in pdf.traj_index.values]    \n",
    "    X_2d = get_tsne_from_traj(c_trj, perplexity=perplexities[j])\n",
    "    \n",
    "    x=X_2d[:,0]\n",
    "    y=X_2d[:,1]\n",
    "    z=pdf.energy_calibrated.values\n",
    "    points = ax.scatter(x, y, c=z, s=10, cmap='jet', alpha=0.7, linewidth=0.7, vmin=0, vmax=1.6, edgecolors='black')\n",
    "    \n",
    "    \n",
    "    ax.set_xlabel('TNSE$_{1}$', fontdict = {'fontsize': 7})\n",
    "    if j == 0:\n",
    "        ax.set_ylabel('TNSE$_{2}$', fontdict = {'fontsize': 7})\n",
    "    ax.set_box_aspect(aspect=1)\n",
    "    ax.tick_params(axis='both', which='both', length=0)\n",
    "    ax.get_xaxis().set_ticklabels([])\n",
    "    ax.get_yaxis().set_ticklabels([])\n",
    "    \n",
    "\n",
    "fig.subplots_adjust(hspace=0.0, wspace=0.05)\n",
    "fig.set_layout_engine(layout='tight')\n",
    "\n",
    "# cbar = fig.colorbar(points, ax=[axs[1,n] for n in [0,1,2,3]], orientation='vertical', location='right', shrink=0.6)\n",
    "# cbar.set_label('E$_{ads}$ $_{rel}$ / eV', fontsize=6)\n",
    "# ticklabs = cbar.ax.get_yticklabels()\n",
    "# cbar.ax.set_yticklabels(ticklabs, fontsize=6)\n"
   ]
  },
  {
   "cell_type": "code",
   "execution_count": null,
   "id": "8639971d",
   "metadata": {},
   "outputs": [],
   "source": [
    "fig.savefig('./energy_heatmap_Cu111_max_pt2.png', dpi=900)"
   ]
  },
  {
   "cell_type": "code",
   "execution_count": null,
   "id": "d81e8662",
   "metadata": {},
   "outputs": [],
   "source": [
    "for a in plot_trj[0:4]:\n",
    "    print(a.info['smiles'])"
   ]
  },
  {
   "cell_type": "code",
   "execution_count": null,
   "id": "06b442ab",
   "metadata": {},
   "outputs": [],
   "source": [
    "view(plot_trj)"
   ]
  },
  {
   "cell_type": "code",
   "execution_count": null,
   "id": "6bad1b6a",
   "metadata": {},
   "outputs": [],
   "source": [
    "blend_trj = []\n",
    "for atoms in plot_trj:\n",
    "    a = atoms.copy()\n",
    "    shift = atoms.cell[0]*0.4 + atoms.cell[1]*0.4\n",
    "    cms = a[[atom.index for atom in a if a.arrays['fragments'][atom.index] > 0]].get_center_of_mass()\n",
    "    cms[2] = 0\n",
    "    a.positions += shift - cms\n",
    "    a.wrap()\n",
    "    blend_trj.append(a)\n",
    "\n",
    "view(blend_trj)"
   ]
  },
  {
   "cell_type": "code",
   "execution_count": null,
   "id": "940d9a0d",
   "metadata": {},
   "outputs": [],
   "source": [
    "xx_trj = []\n",
    "for s in ['S1SCC1O']:\n",
    "    _xx = rdf[rdf.smiles==s]\n",
    "    for idx in _xx.traj_index:\n",
    "        xx_trj.append(relaxed_traj[idx].copy())\n",
    "\n",
    "view(xx_trj)"
   ]
  },
  {
   "cell_type": "code",
   "execution_count": null,
   "id": "4cf9480c",
   "metadata": {},
   "outputs": [],
   "source": [
    "\n",
    "from autoadsorbate.utils import get_blenderized"
   ]
  },
  {
   "cell_type": "code",
   "execution_count": null,
   "id": "0e19e85b",
   "metadata": {},
   "outputs": [],
   "source": [
    "bt= get_blenderized(blend_trj, scale=[3, 1, 1], hide_spot=[0,0,0])\n",
    "write('blenderized_fig2.xyz', bt)\n",
    "\n",
    "bt= get_blenderized(blend_trj, scale=[1, 3, 1], hide_spot=[0,0,0])\n",
    "write('blenderized_fig2_b.xyz', bt)"
   ]
  },
  {
   "cell_type": "code",
   "execution_count": null,
   "id": "fbb0012a",
   "metadata": {},
   "outputs": [],
   "source": [
    "view(bt)"
   ]
  },
  {
   "cell_type": "markdown",
   "id": "a52299b6",
   "metadata": {},
   "source": [
    "### fig3"
   ]
  },
  {
   "cell_type": "code",
   "execution_count": null,
   "id": "45d1ab3d",
   "metadata": {},
   "outputs": [],
   "source": [
    "xdf = bkp_xdf.copy()\n",
    "# xdf = xdf[(xdf.material_formula == 'Cu') & xdf.mi.isin(['1#1#1','1#0#0'])]\n",
    "_xdf = filter_xdf(xdf, relaxed_traj)"
   ]
  },
  {
   "cell_type": "code",
   "execution_count": null,
   "id": "6ca79a39",
   "metadata": {},
   "outputs": [],
   "source": [
    "# _xdf = bkp_xdf.copy()\n",
    "mis = ['1#1#1','1#0#0', '2#1#1']#_xdf.mi.unique()\n",
    "# mpids = _xdf.mpid.unique()\n",
    "mpids = ['mp-30', 'mp-2']#_xdf.mpid.unique()\n",
    "\n",
    "fig, axs = plt.subplots(len(mis), len(mpids), figsize=[7.2, 173/25.4], sharex=True, sharey=True)\n",
    "\n",
    "num_dict = {}\n",
    "\n",
    "for i, mpid in enumerate(mpids):\n",
    "    for j, mi in enumerate(mis):\n",
    "\n",
    "        pdf = _xdf[_xdf.mi.isin([mi]) & _xdf.mpid.isin([mpid])].copy()\n",
    "        pdf = pdf.sort_values(by=['calibrate_keys'])\n",
    "\n",
    "        calibrate_keys = []\n",
    "        for k in pdf.calibrate_keys.values:\n",
    "            k = k.replace('H0', '')\n",
    "            k = k.replace('H1', 'H')\n",
    "            k = k.replace('-', '')\n",
    "            for n in [str(_n) for _n in range(10)]:\n",
    "                k = k.replace(n, f'$_{n}$')\n",
    "            calibrate_keys.append(k)\n",
    "        pdf['calibrate_keys'] = calibrate_keys\n",
    "\n",
    "        if len(mpids) == 1:\n",
    "            ax = axs[j]\n",
    "        else:\n",
    "            ax = axs[j,i]\n",
    "            \n",
    "        \n",
    "        ax.set_title(f\"{pdf.material_formula.values[0]} ({mi.replace('#', '')})\", fontdict = {'fontsize': 8})\n",
    "        if i == 0:\n",
    "            ax.set_ylabel('E$_{ads}$ $_{rel}$ / eV', fontdict = {'fontsize': 7})\n",
    "        num_dict[f\"{mpid}_{mi}_0\"] = heat_map\n",
    "\n",
    "fig.subplots_adjust(hspace=0.1, wspace=0.2)\n",
    "fig.set_layout_engine(layout='tight')"
   ]
  },
  {
   "cell_type": "code",
   "execution_count": null,
   "id": "8eda2afa",
   "metadata": {},
   "outputs": [],
   "source": [
    "fig.savefig('./figure3.png', dpi=900)"
   ]
  },
  {
   "cell_type": "code",
   "execution_count": null,
   "id": "7a310ac6",
   "metadata": {},
   "outputs": [],
   "source": [
    "def plot_energy_heatmap_smiles(_xdf, column, std, e_min, e_max, resolution, normalize,\n",
    "                        return_heatmap=False, T=False, cmap ='viridis', normalize_mode='max', ax=None):\n",
    "    \n",
    "    heat_map = []\n",
    "    yticklabels = []\n",
    "    \n",
    "    for i, smiles in enumerate(_xdf.smiles.unique()):\n",
    "        df_slice = _xdf[_xdf.smiles.isin([smiles])]\n",
    "        if len(df_slice) > 0:\n",
    "            v = energy_descriptor_from_slice(\n",
    "                    df_slice,\n",
    "                    column=column,\n",
    "                    std=std,\n",
    "                    e_min=e_min,\n",
    "                    e_max=e_max,\n",
    "                    resolution=resolution,\n",
    "                    normalize=normalize,\n",
    "                    normalize_mode=normalize_mode\n",
    "                )\n",
    "            heat_map.append(v[1])  \n",
    "            yticklabels.append(smiles)\n",
    "    heat_map = np.array(heat_map)\n",
    "\n",
    "    xticklabels = []\n",
    "    wanted_labels = np.arange(-10, 10, 0.4)\n",
    "    for i, e in enumerate(v[0]):\n",
    "        if any(np.abs(e - wanted_labels) < 1e-2):\n",
    "            label = str(np.round(e, 1))\n",
    "            if label not in xticklabels + ['-0.0']:\n",
    "                xticklabels.append(label)\n",
    "            else:\n",
    "                xticklabels.append('')\n",
    "            \n",
    "        else:\n",
    "            xticklabels.append('')\n",
    "\n",
    "    if ax == None:\n",
    "        fig = plt.figure()\n",
    "        ax=fig.add_subplot(111)\n",
    "    if T==False:\n",
    "        sns.heatmap(heat_map, xticklabels=xticklabels, yticklabels=yticklabels, cbar=False, ax=ax)\n",
    "        for i in range(heat_map.shape[0]+1):\n",
    "            ax.axhline(i, color='white', lw=2 )\n",
    "    \n",
    "    else:\n",
    "        ax = sns.heatmap(heat_map.T, xticklabels=yticklabels, yticklabels=xticklabels, cbar=False, cmap=cmap, ax=ax)   \n",
    "        for i in range(heat_map.shape[1]+1):\n",
    "            ax.axvline(i, color='white', lw=0.5)\n",
    "    \n",
    "    ax.tick_params(axis='both', which='both', length=0)\n",
    "    ax.tick_params(axis='x', labelsize=6)\n",
    "    ax.tick_params(axis='y', labelsize=6)\n",
    "    ax.invert_yaxis()\n",
    "    \n",
    "    if return_heatmap:\n",
    "        return heat_map"
   ]
  },
  {
   "cell_type": "code",
   "execution_count": null,
   "id": "e2add108",
   "metadata": {},
   "outputs": [],
   "source": [
    "pdf = _xdf[(_xdf.calibrate_keys == 'C2O-H4')].copy()\n",
    "\n",
    "sort_keys = {}\n",
    "for smiles in pdf.smiles.unique():\n",
    "    sort_keys[smiles] = pdf[pdf.smiles==smiles].energy_calibrated.min()\n",
    "\n",
    "\n",
    "pdf['sort_plot_en'] = [sort_keys[smiles] for smiles in pdf.smiles.values]\n",
    "pdf = pdf.sort_values(by=['sort_plot_en'])\n",
    "\n",
    "pdf = pdf[pdf.sort_plot_en < 1.5]"
   ]
  },
  {
   "cell_type": "code",
   "execution_count": null,
   "id": "b7a83580",
   "metadata": {},
   "outputs": [],
   "source": [
    "len(pdf.smiles.unique())"
   ]
  },
  {
   "cell_type": "code",
   "execution_count": null,
   "id": "be6431e4",
   "metadata": {},
   "outputs": [],
   "source": [
    "fig, ax = plt.subplots(1,1, figsize=[7.2, 2.5], sharex=False, sharey=True,\n",
    "                        # gridspec_kw={'width_ratios': width_ratios}\n",
    "                        )\n",
    "plot_energy_heatmap_smiles(pdf.sort_values(by=['energy_calibrated']), column='energy_calibrated', std = 0.05, e_min = -0.2,\n",
    "                           e_max = 1.6, resolution=0.001, normalize=True, normalize_mode='integral', return_heatmap=False, T=True, cmap ='plasma', ax = ax)\n",
    "\n",
    "ax.set_ylabel('E$_{ads}$ $_{rel}$ / eV', fontdict = {'fontsize': 7})\n",
    "fig.subplots_adjust(hspace=0.0, wspace=0.05)\n",
    "fig.set_layout_engine(layout='tight')"
   ]
  },
  {
   "cell_type": "code",
   "execution_count": null,
   "id": "8219033f",
   "metadata": {},
   "outputs": [],
   "source": [
    "fig"
   ]
  },
  {
   "cell_type": "code",
   "execution_count": null,
   "id": "d0ee3260",
   "metadata": {},
   "outputs": [],
   "source": [
    "fig.savefig('./energy_heatmap_Cu111_max_pt3.png', dpi=900, transparent=True)"
   ]
  },
  {
   "cell_type": "code",
   "execution_count": null,
   "id": "15ea1dc7",
   "metadata": {},
   "outputs": [],
   "source": [
    "from dscribe.descriptors import SOAP\n",
    "from sklearn.manifold import TSNE\n",
    "\n",
    "def get_tsne_from_traj(c_trj, perplexity=20.0):\n",
    "    species = list(set([atom.symbol for atom in c_trj[0]]))\n",
    "    r_cut = 6.0\n",
    "    n_max = 8\n",
    "    l_max = 6\n",
    "\n",
    "    # Setting up the SOAP descriptor\n",
    "    soap = SOAP(\n",
    "        species=species,\n",
    "        periodic=True,\n",
    "        r_cut=r_cut,\n",
    "        n_max=n_max,\n",
    "        l_max=l_max,\n",
    "    )\n",
    "\n",
    "\n",
    "    soap_desc = [soap.create(a) for a in c_trj]\n",
    "\n",
    "    tsne = TSNE(n_components=2, random_state=0, perplexity=perplexity)\n",
    "\n",
    "    X_2d = tsne.fit_transform(np.array(soap_desc).reshape(len(soap_desc), -1))\n",
    "\n",
    "    return X_2d\n",
    "\n",
    "def find_index_by_energy(e_i, energy_range, _thr=0.01):\n",
    "    index_candidates = np.where(np.abs(energy_range - e_i)<_thr)[0]\n",
    "    while len(index_candidates) > 1:\n",
    "        # print(_thr, len(index_candidates))\n",
    "        _thr-=0.000001\n",
    "        index_candidates = np.where(np.abs(energy_range - e_i)<_thr)[0]\n",
    "    index = index_candidates[0]\n",
    "    return index\n",
    "\n",
    "e_i = e[10]\n",
    "# energy_range[find_index_by_energy(e_i, energy_range)]\n",
    "\n",
    "\n"
   ]
  },
  {
   "cell_type": "markdown",
   "id": "8871d974",
   "metadata": {},
   "source": [
    "### figure 1 pt2"
   ]
  },
  {
   "cell_type": "code",
   "execution_count": null,
   "id": "f4de7f6b",
   "metadata": {},
   "outputs": [],
   "source": [
    "import os\n",
    "# import json\n",
    "# import numpy as np\n",
    "# from ase.io import read\n",
    "\n",
    "path = './collect_data/'\n",
    "\n",
    "# with open(os.path.join(path, 'identifiers.json')) as f:\n",
    "#     identifiers = json.load(f)\n",
    "\n",
    "# energy_array = np.load(os.path.join(path, 'energy_array.npy'))\n",
    "# smiles = [i.split('--')[1] for i in identifiers]\n",
    "# pid = [i.split('--')[0].split('elax_')[-1] for i in identifiers]\n",
    "# relaxed_traj = read(os.path.join(path, 'relaxed_traj.xyz'), index=':')\n",
    "parent_traj = read(os.path.join(path, 'parent_traj.xyz'), index=':')"
   ]
  },
  {
   "cell_type": "code",
   "execution_count": null,
   "id": "9005a23b",
   "metadata": {},
   "outputs": [],
   "source": [
    "view(parent_traj)"
   ]
  },
  {
   "cell_type": "code",
   "execution_count": null,
   "id": "32e4f60d",
   "metadata": {},
   "outputs": [],
   "source": [
    "atoms = parent_traj[0].copy()\n",
    "s= Surface(atoms)\n",
    "s.sym_reduce()"
   ]
  },
  {
   "cell_type": "code",
   "execution_count": null,
   "id": "a6d3b914",
   "metadata": {},
   "outputs": [],
   "source": [
    "x_trj = []\n",
    "\n",
    "for atoms in parent_traj:\n",
    "    s= Surface(atoms)\n",
    "    s.sym_reduce()\n",
    "\n",
    "\n",
    "    for i in s.site_df.index.values:\n",
    "        site_marker = s.view_site(i, return_atoms=True) \n",
    "\n",
    "        for atom in site_marker:\n",
    "            if atom.symbol in ['Cu', 'Pd']:\n",
    "                atom.symbol = 'Zn'\n",
    "            if atom.symbol =='X':\n",
    "                atom.symbol = 'He'\n",
    "        \n",
    "        x_atoms= s.atoms.copy()\n",
    "        x_atoms +=site_marker\n",
    "        he_cms = x_atoms[[atom.index for atom in x_atoms if atom.symbol =='He']].get_center_of_mass()\n",
    "        x_atoms.positions = x_atoms.positions + atoms.cell[0]*0.5 + atoms.cell[1]*0.5 - he_cms \n",
    "        x_atoms.wrap()\n",
    "        he_cms = x_atoms[[atom.index for atom in x_atoms if atom.symbol =='He']].get_center_of_mass()\n",
    "        he_cms[2]=0\n",
    "        x_atoms*=[3,3,1]\n",
    "        x_atoms.positions -= he_cms\n",
    "        \n",
    "        x_trj .append(x_atoms)\n",
    "\n",
    "view(x_trj)"
   ]
  },
  {
   "cell_type": "code",
   "execution_count": null,
   "id": "833dd43e",
   "metadata": {},
   "outputs": [],
   "source": [
    "view(x_trj)"
   ]
  },
  {
   "cell_type": "code",
   "execution_count": null,
   "id": "b162fd89",
   "metadata": {},
   "outputs": [],
   "source": [
    "bt = get_blenderized(x_trj, scale=[1,1,1], hide_spot=[-50,0,0])\n",
    "write('sites.xyz', bt)"
   ]
  },
  {
   "cell_type": "code",
   "execution_count": null,
   "id": "43d3b7c5",
   "metadata": {},
   "outputs": [],
   "source": []
  },
  {
   "cell_type": "markdown",
   "id": "49c21133",
   "metadata": {},
   "source": [
    "## MLIPX selection"
   ]
  },
  {
   "cell_type": "code",
   "execution_count": null,
   "id": "5b7bd456",
   "metadata": {},
   "outputs": [],
   "source": [
    "# import pandas as pd\n",
    "# from autoadsorbate.plotting import filter_xdf\n",
    "\n",
    "# xdf = pd.read_csv('./xdf_mlipx_full.csv')\n",
    "# relaxed_traj = read('./collect_data/relaxed_traj.xyz', index=':')\n",
    "\n",
    "# xdf = xdf[(xdf.material_formula == 'Cu')]# & xdf.mi.isin(['1#1#1','1#0#0'])]\n",
    "# _xdf = filter_xdf(xdf, relaxed_traj)\n",
    "\n",
    "# selected_trj = [relaxed_traj[i].copy() for i in _xdf[(_xdf.energy_calibrated < 0.2)].traj_index.values]\n",
    "# print(len(selected_trj))"
   ]
  },
  {
   "cell_type": "code",
   "execution_count": null,
   "id": "8468ea3f",
   "metadata": {},
   "outputs": [],
   "source": [
    "# select_df = _xdf[(_xdf['C']==2) & (_xdf['O']==1) & _xdf.H.isin([4,5])]\n",
    "# # select_df = _xdf[(_xdf.energy_calibrated < 300)]\n",
    "\n",
    "# selected_trj = [relaxed_traj[i].copy() for i in select_df.traj_index.values]\n",
    "# print(len(selected_trj))"
   ]
  },
  {
   "cell_type": "code",
   "execution_count": null,
   "id": "3fa3af55",
   "metadata": {},
   "outputs": [],
   "source": [
    "# selected_aads_traj = []\n",
    "# all_relax = glob('/home/djrm/liac17_home/projects/aads/relax_mp-30_1#1#1_0/MACE*xyz')    \n",
    "\n",
    "# for atoms in selected_trj:\n",
    "#     uid = atoms.info['uid']\n",
    "#     fs = [f for f in all_relax if len(f.split(uid))>1]\n",
    "#     print(fs)\n",
    "#     if len(fs)==1:\n",
    "#         a = read(fs[0], index=0)\n",
    "#         selected_aads_traj.append(a)\n",
    "#         print('reading: ', fs[0], 'len selected: ', len(selected_aads_traj))\n",
    "#     else:\n",
    "#         print('Problem: ', fs, 'has len: ', len(fs))\n",
    "        \n",
    "    \n",
    "# # /MACE_prerelax_acaef75a-2d1e-4e3a-a2d1-e4bad7d99b0a.xyz"
   ]
  },
  {
   "cell_type": "code",
   "execution_count": null,
   "id": "fa795910",
   "metadata": {},
   "outputs": [],
   "source": [
    "# write('mlipx_mp-30_1#1#1_C2O1H4_C2O1H5.xyz', selected_aads_traj)"
   ]
  },
  {
   "cell_type": "code",
   "execution_count": null,
   "id": "730aaef6",
   "metadata": {},
   "outputs": [],
   "source": [
    "# view(selected_aads_traj)"
   ]
  },
  {
   "cell_type": "markdown",
   "id": "2379da9e",
   "metadata": {},
   "source": [
    "## interface"
   ]
  },
  {
   "cell_type": "code",
   "execution_count": null,
   "id": "513bf361",
   "metadata": {},
   "outputs": [],
   "source": [
    "from hetcattoolbox.hetcattoolbox import MPResterSimple\n",
    "import pymatgen\n",
    "from pymatgen.analysis.interfaces.coherent_interfaces import CoherentInterfaceBuilder\n",
    "from pymatgen.analysis.interfaces.zsl import ZSLGenerator\n",
    "\n",
    "from pymatgen.io.ase import AseAtomsAdaptor\n",
    "\n",
    "api_key = '0FZIs3w6bTqjjZdjdrc4G0wCQpKj15Ai'\n",
    "\n",
    "mprs = MPResterSimple(api_key=api_key)\n",
    "\n",
    "zno = AseAtomsAdaptor.get_structure(mprs.get_atoms_by_material_id('mp-2133') )\n",
    "cu = AseAtomsAdaptor.get_structure(mprs.get_atoms_by_material_id('mp-30'))\n",
    "\n",
    "\n",
    "zsl = ZSLGenerator(max_area=300)\n",
    "\n",
    "cib = CoherentInterfaceBuilder(film_structure=cu,\n",
    "                               substrate_structure=zno,\n",
    "                               film_miller=(1,0,0),\n",
    "                               substrate_miller=(1,0,0),\n",
    "                               zslgen=zsl)\n",
    "\n",
    "cib.terminations\n",
    "\n",
    "interfaces=list(cib.get_interfaces(termination= cib.terminations[0], film_thickness = 2, substrate_thickness = 2))\n",
    "# cib.terminations[0]\n",
    "\n",
    "view_trj = [AseAtomsAdaptor.get_atoms(i) for i in interfaces]\n",
    "view(view_trj)"
   ]
  },
  {
   "cell_type": "markdown",
   "id": "c8896349",
   "metadata": {},
   "source": [
    "## Cu-ZnO: Jelena Jelic paper"
   ]
  },
  {
   "cell_type": "code",
   "execution_count": null,
   "id": "2cc0039c",
   "metadata": {},
   "outputs": [],
   "source": [
    "# Cu-ZnO slab structure taken from the SI of:\n",
    "#https://pubs.acs.org/doi/10.1021/acs.jpcc.4c08821"
   ]
  },
  {
   "cell_type": "code",
   "execution_count": null,
   "id": "94acfaa8",
   "metadata": {},
   "outputs": [],
   "source": [
    "zno_cu = read('./cu_zno/ZnO-Cu.poscar')\n",
    "s = Surface(zno_cu)"
   ]
  },
  {
   "cell_type": "code",
   "execution_count": null,
   "id": "27653503",
   "metadata": {},
   "outputs": [],
   "source": [
    "smiles = ['ClC=O', 'S1SC=[O+]1']\n",
    "\n",
    "pop_trj = []\n",
    "for smile in smiles:\n",
    "    \n",
    "    fragment = Fragment(smile)\n",
    "    pop_trj += s.get_populated_sites(fragment, site_index='all',\n",
    "                                     sample_rotation=True, mode='heuristic', \n",
    "                                     conformers_per_site_cap=5, overlap_thr=1.6, verbose=True)\n",
    "\n",
    "for atoms in pop_trj:\n",
    "    atoms.info['uid'] = str(uuid.uuid4())\n",
    "\n",
    "write('zno_cu_ads_trj.xyz', pop_trj)\n"
   ]
  },
  {
   "cell_type": "code",
   "execution_count": null,
   "id": "d8ead7a2",
   "metadata": {},
   "outputs": [],
   "source": [
    "import uuid\n",
    "for atoms in pop_trj:\n",
    "    atoms.info['uid'] = str(uuid.uuid4())\n",
    "\n",
    "write('zno_cu_ads_trj.xyz', pop_trj)\n",
    "pop_trj = read('cu_zno/zno_cu_ads_trj.xyz', index=':')\n"
   ]
  },
  {
   "cell_type": "markdown",
   "id": "d00635d3",
   "metadata": {},
   "source": [
    "### minima hop"
   ]
  },
  {
   "cell_type": "code",
   "execution_count": null,
   "id": "c9ea1a2a",
   "metadata": {},
   "outputs": [],
   "source": [
    "# files = glob('/home/djrm/liac22_home/projects/aads/cu_zno/minhop/MACE*/MACE*.traj')\n",
    "# frames = []\n",
    "# for file in files:\n",
    "#     frames+=read(file, index=':')\n",
    "# print(len(files), len(frames))"
   ]
  },
  {
   "cell_type": "code",
   "execution_count": null,
   "id": "128996fd",
   "metadata": {},
   "outputs": [],
   "source": [
    "# fragments_map = {}\n",
    "# for atoms in pop_trj:\n",
    "#     fragments_map[atoms.info['uid']]=atoms.arrays['fragments']\n",
    "\n",
    "# mh_clean_traj = []\n",
    "# dists = []\n",
    "# for atoms in frames:\n",
    "#     a = atoms.copy()\n",
    "#     a.arrays['fragments'] = fragments_map[a.info['uid']]\n",
    "#     a = a[[atom.index for atom in a if a.arrays['fragments'][atom.index]>0]]\n",
    "#     dist = np.max(a.get_all_distances()[0])\n",
    "#     dists.append(dist)\n",
    "#     if dist<1.5:\n",
    "#         mh_clean_traj.append(atoms.copy())\n",
    "#     # print()"
   ]
  },
  {
   "cell_type": "code",
   "execution_count": null,
   "id": "c4fa3f99",
   "metadata": {},
   "outputs": [],
   "source": [
    "# write('/home/djrm/liac22_home/projects/aads/cu_zno/minhop/mh_clean_traj.xyz', mh_clean_traj)\n",
    "mh_clean_traj = read('./cu_zno/mh_clean_traj_eval.xyz', index=':')"
   ]
  },
  {
   "cell_type": "markdown",
   "id": "0329f698",
   "metadata": {},
   "source": [
    "### aads relax"
   ]
  },
  {
   "cell_type": "code",
   "execution_count": null,
   "id": "be59991b",
   "metadata": {},
   "outputs": [],
   "source": [
    "# all_files = glob('/home/djrm/liac22_home/projects/aads/cu_zno/relax/MACE*.xyz')\n",
    "\n",
    "# r_df, r_traj = read_relax_dir(all_files)\n",
    "# _ = r_df.pop('site')\n",
    "# r_df['origin'] = ['aads' for _ in r_df['uid']]"
   ]
  },
  {
   "cell_type": "code",
   "execution_count": null,
   "id": "d43a6561",
   "metadata": {},
   "outputs": [],
   "source": [
    "# all_files = glob('/home/djrm/liac22_home/projects/aads/cu_zno/relax/MACE*.xyz')\n",
    "\n",
    "# aads_ini_traj = []\n",
    "# for file in all_files:\n",
    "#     a = read(file, index = 0)"
   ]
  },
  {
   "cell_type": "code",
   "execution_count": null,
   "id": "3d8b873d",
   "metadata": {},
   "outputs": [],
   "source": [
    "# write('r_traj_relaxed.xyz', r_traj)\n",
    "# r_df.to_csv('r_df_relaxed.csv')\n",
    "\n",
    "r_traj = read('r_traj_relaxed.xyz', index=':')\n",
    "r_df = pd.read_csv('r_df_relaxed.csv')"
   ]
  },
  {
   "cell_type": "code",
   "execution_count": null,
   "id": "bf90db9e",
   "metadata": {},
   "outputs": [],
   "source": [
    "from mace.calculators import mace_mp\n",
    "\n",
    "r_df['pid'] = ['ZnO/Cu' for _ in r_df.index.values]\n",
    "\n",
    "parent_en = {}\n",
    "for pid in r_df.pid.unique():\n",
    "    traj_index = r_df[r_df.pid.isin([pid])].traj_index.iloc[0]\n",
    "    atoms = r_traj[traj_index].copy()\n",
    "    ref_atoms = atoms[[atom.index for atom in atoms if atoms.arrays['fragments'][atom.index] == 0]]\n",
    "    calc = mace_mp(model='./models/mace-mp-0b3-medium.model', dispersion=True, device='cpu')\n",
    "    ref_atoms.set_calculator(calc)\n",
    "    parent_en[pid] = ref_atoms.get_potential_energy()\n",
    "    ref_atoms.info={'pid': pid}\n",
    "\n",
    "ref_dict={\n",
    "    'C' : 0,\n",
    "    'O' : 0,\n",
    "    'H' : 0\n",
    "}\n",
    "\n",
    "# parent_en = read('./relax_Cu111_Cu2_try2/MACE_relax_Cu111_Cu2_slab.xyz', index=-1).get_potential_energy()\n",
    "\n",
    "r_xdf = compute_energy(r_df, ref_dict, parent_en)\n",
    "# xdf = xdf[xdf['energy']>-100]"
   ]
  },
  {
   "cell_type": "code",
   "execution_count": null,
   "id": "ae42f237",
   "metadata": {},
   "outputs": [],
   "source": [
    "r_xdf['energy_calibrated'] = r_xdf['energy'] - r_xdf['energy'].min()"
   ]
  },
  {
   "cell_type": "code",
   "execution_count": null,
   "id": "a288f70a",
   "metadata": {},
   "outputs": [],
   "source": [
    "# sns.histplot(r_xdf['energy_calibrated'].values)"
   ]
  },
  {
   "cell_type": "code",
   "execution_count": null,
   "id": "ce110367",
   "metadata": {},
   "outputs": [],
   "source": [
    "a = r_traj[0].copy()\n",
    "a = a[[atom.index for atom in a if a.arrays['fragments'][atom.index]==0]]\n",
    "# s=Surface(a)\n",
    "\n",
    "# inds = []\n",
    "# for v in s.site_df.topology.values:\n",
    "#     inds+=v\n",
    "# inds = list(set(inds))\n",
    "# plot_atoms = a[[atom.index for atom in a if atom.index in inds]]\n",
    "plot_atoms = a.copy()\n",
    "plot_atoms = plot_atoms*[3,3,1]\n",
    "plot_atoms = sort(plot_atoms, tags=plot_atoms.positions[:,2])\n",
    "# plot_atoms = sort(plot_atoms, tags=plot_atoms.arrays['fragments'])\n",
    "plot_atoms.positions-=r_traj[0].cell[0]\n",
    "plot_atoms.positions-=r_traj[0].cell[1]"
   ]
  },
  {
   "cell_type": "code",
   "execution_count": null,
   "id": "d7d90557",
   "metadata": {},
   "outputs": [],
   "source": [
    "x = []\n",
    "y = []\n",
    "z = []\n",
    "e = []\n",
    "\n",
    "traj_cu = []\n",
    "traj_interface1 = []\n",
    "traj_interface2 = []\n",
    "traj_zno = []\n",
    "\n",
    "for i in r_xdf.traj_index.values:\n",
    "    atoms = r_traj[i]\n",
    "    atoms.wrap()\n",
    "    a = atoms[[atom.index for atom in atoms if atom.symbol=='C']]\n",
    "    x.append(a[0].position[0])\n",
    "    y.append(a[0].position[1])\n",
    "    z.append(a[0].position[2])\n",
    "    energy = r_xdf.energy_calibrated.loc[i]\n",
    "    e.append(energy)\n",
    "    y_vals=[10,13,15.7,16.9]\n",
    "    if y[-1] > y_vals[0] and y[-1] < y_vals[1]:\n",
    "        traj_zno.append((atoms.copy(), energy))\n",
    "    if y[-1] > y_vals[1] and y[-1] < y_vals[2]:\n",
    "        traj_interface1.append((atoms.copy(), energy))\n",
    "    if y[-1] > y_vals[2] and y[-1] < y_vals[3]:\n",
    "        traj_interface2.append((atoms.copy(), energy))\n",
    "    if y[-1] > y_vals[3]+2 and x[-1] < 3 :\n",
    "        traj_cu.append((atoms.copy(), energy))\n",
    "        \n",
    "for t in [traj_cu, traj_interface1, traj_interface2, traj_zno]:\n",
    "    t.sort(key=lambda tup: tup[1], reverse=False) \n",
    "    \n",
    "\n",
    "x_mh = []\n",
    "y_mh = []\n",
    "z_mh = []\n",
    "e_mh = []\n",
    "\n",
    "e_ref = min([a.info['mace_energy'] for a in mh_clean_traj])\n",
    "for atoms in mh_clean_traj:\n",
    "    a = atoms[[atom.index for atom in atoms if atom.symbol=='C']]\n",
    "    a.wrap()\n",
    "    x_mh.append(a[0].position[0])\n",
    "    y_mh.append(a[0].position[1])\n",
    "    z_mh.append(a[0].position[2])\n",
    "    e_mh.append(a.info['mace_energy']-e_ref)\n",
    "    \n",
    "x_surf = []\n",
    "y_surf = []\n",
    "z_surf = []\n",
    "c_surf = []\n",
    "\n",
    "for atom in plot_atoms:\n",
    "    x_surf.append(atom.position[0])\n",
    "    y_surf.append(atom.position[1])\n",
    "    z_surf.append(atom.position[2])\n",
    "    c_surf.append(atom.symbol)\n",
    "    \n",
    "x_pop = []\n",
    "y_pop = []\n",
    "\n",
    "for atoms in pop_trj:\n",
    "    a = atoms[[atom.index for atom in atoms if atom.symbol=='C']]\n",
    "    a.wrap()\n",
    "    x_pop.append(a[0].position[0])\n",
    "    y_pop.append(a[0].position[1])\n"
   ]
  },
  {
   "cell_type": "code",
   "execution_count": null,
   "id": "606a7fee",
   "metadata": {},
   "outputs": [],
   "source": [
    "side_view_traj = [t[0][0].copy() for t in [traj_zno, traj_interface1,traj_interface2, traj_cu]]\n",
    "side_view_atoms = side_view_traj[0].copy()[[]] \n",
    "\n",
    "for i, a in enumerate(side_view_traj):\n",
    "    side_view_atoms+=a[[atom.index for atom in a if a.arrays['fragments'][atom.index] ==1]]\n",
    "for atom in side_view_atoms:\n",
    "    if atom.symbol == 'O':\n",
    "        atom.symbol='N'\n",
    "        \n",
    "_a = r_traj[0].copy()\n",
    "_a = a[[atom.index for atom in a if a.arrays['fragments'][atom.index]==0]]\n",
    "side_view_atoms+=_a\n",
    "side_view_atoms = sort(side_view_atoms, tags=side_view_atoms.positions[:,0])\n",
    "\n",
    "view(side_view_atoms)"
   ]
  },
  {
   "cell_type": "code",
   "execution_count": null,
   "id": "b8de8fa6",
   "metadata": {},
   "outputs": [],
   "source": [
    "step_count = pd.DataFrame(\n",
    "    [{'origin': 'mh-md', 'runs': 9386, 'potential calls': 460380},\n",
    "    {'origin': 'mh-opt', 'runs': 9880, 'potential calls': 142906},\n",
    "    {'origin': 'aads', 'runs': 494, 'potential calls': 22821}]\n",
    "    )\n",
    "step_count"
   ]
  },
  {
   "cell_type": "code",
   "execution_count": null,
   "id": "9e3200d0",
   "metadata": {},
   "outputs": [],
   "source": [
    "read('C:\\Users\\user\\Downloads\\mace_mpa0\\482\\StructureOptimization')"
   ]
  },
  {
   "cell_type": "code",
   "execution_count": null,
   "id": "ee16deef",
   "metadata": {},
   "outputs": [],
   "source": [
    "# sns.reset_orig()\n",
    "# from matplotlib import interactive\n",
    "# interactive(True)"
   ]
  },
  {
   "cell_type": "code",
   "execution_count": null,
   "id": "5ddbe134",
   "metadata": {},
   "outputs": [],
   "source": [
    "import seaborn as sns\n",
    "import matplotlib.pyplot as plt\n",
    "\n",
    "# sns.set_context(rc = {'patch.linewidth': 0.2})\n",
    "\n",
    "#cbar _ stuff\n",
    "_fig, _ax = plt.subplots(1, 1)\n",
    "map1 = _ax.imshow(np.stack([e_mh, e_mh]),cmap='plasma')\n",
    "\n",
    "atoms_color_dict = {\n",
    "    'Cu':'#fcdbc6ff',\n",
    "    'Zn':'#d6dfecff',\n",
    "    'O':'#ffd6d6ff',\n",
    "    'N':'#e33f3fff',\n",
    "    'C':'#787878ff',\n",
    "    'H':'#f6f6f6ff',\n",
    "}\n",
    "\n",
    "atoms_size_dict = {\n",
    "    'Cu':600,\n",
    "    'Zn':700,\n",
    "    'O':300,\n",
    "    'N':150,\n",
    "    'C':170,\n",
    "    'H':70,\n",
    "    \n",
    "}\n",
    "\n",
    "fig, axs = plt.subplot_mosaic([['a','a','a','a','a','a','d','d'],\n",
    "                               ['a','a','a','a','a','a','d','d'],\n",
    "                               ['a','a','a','a','a','a','e','e'],\n",
    "                               ['b','b','b','b','b','b','e','e'],\n",
    "                               ['b','b','b','b','b','b','g','g'],\n",
    "                               ['b','b','b','b','b','b','g','g'],\n",
    "                               ['c','c','c','c','c','c','f','f'],\n",
    "                               ['c','c','c','c','c','c','f','f'],\n",
    "                               ['c','c','c','c','c','c','f','f']],\n",
    "                              figsize=[180/25.4, 130/25.4])\n",
    "\n",
    "axs['b'].sharex(axs['a'])\n",
    "axs['c'].sharex(axs['a'])\n",
    "\n",
    "# axs['d'].sharey(axs['e'])\n",
    "axs['f'].sharey(axs['c'])\n",
    "axs['g'].sharex(axs['e'])\n",
    "\n",
    "\n",
    "for ax_label in ['a','b', 'c']:\n",
    "    ax = axs[ax_label]\n",
    "    y_atom = x_surf\n",
    "    yrange = [-1,6]\n",
    "    ax.set_ylabel(r'c / $\\AA$', fontdict={'size':8})\n",
    "    plot_atoms = sort(plot_atoms, tags=plot_atoms.positions[:,2])\n",
    "    \n",
    "    if ax_label == 'c':\n",
    "        plot_atoms = sort(plot_atoms, tags=plot_atoms.positions[:,1]*-1)\n",
    "        y_atom = z_surf\n",
    "        yrange = [14,25]\n",
    "    else:\n",
    "        # ax.set_aspect('equal', adjustable='box')\n",
    "        ax.set_ylabel(r'a / $\\AA$', fontdict={'size':8})\n",
    "    \n",
    "    \n",
    "    ax.set_ylim(yrange)\n",
    "    ax.set_xlim([-1,23])\n",
    "    ax.set_xlabel(r'b / $\\AA$', fontdict={'size':8})\n",
    "    \n",
    "    # plt.colorbar()\n",
    "    cbar = fig.colorbar(map1, ax=ax)\n",
    "    cbar.set_label('E$_{ads, rel}$ / eV', rotation=90)\n",
    "    \n",
    "    ax.scatter(\n",
    "        x=y_surf, y=y_atom, c=[atoms_color_dict[c] for c in c_surf], marker='o',\n",
    "        s=[atoms_size_dict[s]*1.0 for s in c_surf], alpha=1, zorder=0, edgecolors='gray', lw=0.2\n",
    "    )\n",
    "\n",
    "ax = axs['a']\n",
    "ax.scatter(x=y_pop, y=x_pop, c='k', marker='x', s=30, alpha=0.15, zorder=2)\n",
    "ax.scatter(x=y, y=x, c=e, cmap='plasma', s=70, alpha=0.3, zorder=1)\n",
    "\n",
    "ax = axs['b']\n",
    "ax.scatter(x=y, y=x, c='k', marker='x', s=30, alpha=0.15, zorder=2)\n",
    "ax.scatter(x=y_mh, y=x_mh, c=e_mh, cmap='plasma', s=70, alpha=0.3, zorder=1)\n",
    "\n",
    "ax = axs['c']\n",
    "# ax.scatter(x=y, y=z, c='k', marker='x', s=30, alpha=0.15, zorder=2)\n",
    "ax.scatter(x=y_mh, y=z_mh, c=e_mh, cmap='plasma', s=70, alpha=0.3, zorder=1)\n",
    "\n",
    "y_vals=[10,13,15.7,16.9]\n",
    "ax.vlines(x=y_vals, ymin=[0 for _ in y_vals], ymax=[100 for _ in y_vals],\n",
    "          color='k', ls='--', lw=0.7)#, label='axvline - full height')\n",
    "\n",
    "X_loc = side_view_atoms[[atom.index for atom in side_view_atoms if atom.symbol=='C']]\n",
    "ax.scatter(x=X_loc.positions[:,1],\n",
    "           y=X_loc.positions[:,2],\n",
    "           facecolors='none',\n",
    "           edgecolors='k',\n",
    "           marker='o', s=100, alpha=1, zorder=2)\n",
    "\n",
    "\n",
    "ax = axs['f']\n",
    "ax.scatter(\n",
    "        x=side_view_atoms.positions[:,1], y=side_view_atoms.positions[:,2],\n",
    "        c=[atoms_color_dict[c] for c in side_view_atoms.symbols], marker='o',\n",
    "        s=[atoms_size_dict[s]*1.0 for s in side_view_atoms.symbols],\n",
    "        alpha=[0.8 if _a.symbol in ['C','N', 'H'] else 0.2 for i, _a in enumerate(side_view_atoms)], zorder=0, edgecolors='k'\n",
    "    )\n",
    "ax.set_xlim([11,20])\n",
    "ax.set_xlabel(r'b / $\\AA$', fontdict={'size':8})\n",
    "ax.set_ylabel(r'c / $\\AA$', fontdict={'size':8})\n",
    "    \n",
    "\n",
    "\n",
    "sns.histplot(e_mh, ax=axs['d'], bins=20, color='orange')\n",
    "sns.histplot(e, ax=axs['d'], bins=20, color='blue', alpha=0.5)\n",
    "axs['d'].set_xlabel(r'E$_{ads, rel}$ / eV', fontdict={'size':8})\n",
    "# axs['d'].set_xlabel(r'E$_{ads}$ / eV', fontdict={'size':8})\n",
    "\n",
    "colors=['orange','orange','blue']\n",
    "# colors=[mcolors.to_rgba(c) for c in ['#ffcb6eff', '#ffbb40ff', '#7f5d9fff']]\n",
    "sns.barplot(step_count, x='origin', y='runs', ax=axs['e'], hue='origin',\n",
    "            legend=False, palette=colors, edgecolor=\"k\", alpha=0.7)\n",
    "sns.barplot(step_count, x='origin', y='potential calls', ax=axs['g'], hue='origin',\n",
    "            legend=False, edgecolor=\"k\",palette=colors, alpha=0.7)\n",
    "# axs['e'].set_yscale(\"log\")\n",
    "axs['g'].set_yscale(\"log\")\n",
    "\n",
    "\n",
    "\n",
    "fig.set_layout_engine(layout='tight')\n",
    "fig.savefig(f\"figure4_ms.png\", dpi=600)"
   ]
  },
  {
   "cell_type": "code",
   "execution_count": null,
   "id": "3a99298e",
   "metadata": {},
   "outputs": [],
   "source": [
    "# import chemiscope\n",
    "\n",
    "# props = {'x': r_xdf.to_dict(orient='list')['traj_index'],\n",
    "#          'e': r_xdf.to_dict(orient='list')['energy_calibrated']}\n",
    "# # props = r_xdf.to_dict(orient='list')\n",
    "\n",
    "# chemiscope.write_input(\n",
    "#     # frames=[center_fragment_in_cell(r_traj[i], fragment_inds=[1]) for i in _xdf.traj_index.values],\n",
    "#     frames=[r_traj[i] for i in r_xdf.traj_index.values],\n",
    "#     properties=props,\n",
    "#     path='chemiscope_input.json'\n",
    "#     # mode='default',\n",
    "# )"
   ]
  },
  {
   "cell_type": "code",
   "execution_count": null,
   "id": "cd29c2f2",
   "metadata": {},
   "outputs": [],
   "source": [
    "files = glob('/home/djrm/liac22_home/projects/aads/cu_zno/minhop/MACE*/MACE*traj')\n",
    "len(files)"
   ]
  },
  {
   "cell_type": "code",
   "execution_count": null,
   "id": "eeeaa3bf",
   "metadata": {},
   "outputs": [],
   "source": [
    "minhop_trj=[]\n",
    "for file in files:\n",
    "    minhop_trj+=read(file, index=':')\n",
    "len(minhop_trj)"
   ]
  },
  {
   "cell_type": "markdown",
   "id": "381b0ed8",
   "metadata": {},
   "source": [
    "### sym reduce debug"
   ]
  },
  {
   "cell_type": "code",
   "execution_count": 6,
   "id": "325fe48d",
   "metadata": {},
   "outputs": [
    {
     "name": "stdout",
     "output_type": "stream",
     "text": [
      "len(s.site_df) = 72\n",
      "len(xdf) = 3\n"
     ]
    }
   ],
   "source": [
    "from pymatgen.core import Structure\n",
    "from pymatgen.io.ase import AseAtomsAdaptor\n",
    "from autoadsorbate.utils import _filter_unique_sites_by_soap\n",
    "\n",
    "structure = Structure.from_file(\"POSCAR\")\n",
    "atoms = AseAtomsAdaptor.get_atoms(structure)\n",
    "\n",
    "s = Surface(atoms)\n",
    "print(f'{len(s.site_df) = }')\n",
    "\n",
    "xdf = _filter_unique_sites_by_soap(s.atoms, s.site_df, similarity_threshold=0.999)\n",
    "print(f'{len(xdf) = }')"
   ]
  },
  {
   "cell_type": "code",
   "execution_count": null,
   "id": "1a1d5378",
   "metadata": {},
   "outputs": [],
   "source": []
  },
  {
   "cell_type": "code",
   "execution_count": null,
   "id": "5b99231b",
   "metadata": {},
   "outputs": [],
   "source": []
  }
 ],
 "metadata": {
  "kernelspec": {
   "display_name": "mace_env",
   "language": "python",
   "name": "python3"
  },
  "language_info": {
   "codemirror_mode": {
    "name": "ipython",
    "version": 3
   },
   "file_extension": ".py",
   "mimetype": "text/x-python",
   "name": "python",
   "nbconvert_exporter": "python",
   "pygments_lexer": "ipython3",
   "version": "3.12.3"
  }
 },
 "nbformat": 4,
 "nbformat_minor": 5
}
