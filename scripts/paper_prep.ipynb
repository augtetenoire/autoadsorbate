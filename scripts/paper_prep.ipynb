{
 "cells": [
  {
   "cell_type": "markdown",
   "metadata": {},
   "source": [
    "## init"
   ]
  },
  {
   "cell_type": "code",
   "execution_count": 59,
   "metadata": {},
   "outputs": [
    {
     "name": "stdout",
     "output_type": "stream",
     "text": [
      "The autoreload extension is already loaded. To reload it, use:\n",
      "  %reload_ext autoreload\n"
     ]
    }
   ],
   "source": [
    "%load_ext autoreload\n",
    "%autoreload 2\n",
    "\n",
    "import sys\n",
    "\n",
    "import pandas as pd\n",
    "from ase.visualize import view\n",
    "\n",
    "from autoadsorbate import Surface\n",
    "\n",
    "# sys.path.insert(0, '/home/djrm/git/hetcattoolbox')\n",
    "sys.path.insert(0, \"/root/git/autoadsorbate\")\n",
    "sys.path.insert(0, \"/root/git/hetcattoolbox\")\n",
    "# sys.path.insert(0, '/home/djrm/git/autoadsorbate')\n",
    "\n",
    "from hetcattoolbox.hetcattoolbox import MPResterSimple\n",
    "from hetcattoolbox.utils import *"
   ]
  },
  {
   "cell_type": "code",
   "execution_count": 60,
   "metadata": {},
   "outputs": [],
   "source": [
    "# import inspect\n",
    "# inspect.getabsfile(Surface)"
   ]
  },
  {
   "cell_type": "code",
   "execution_count": 61,
   "metadata": {},
   "outputs": [
    {
     "data": {
      "application/vnd.jupyter.widget-view+json": {
       "model_id": "1c52a63f3fe44485a9125c8af100a38d",
       "version_major": 2,
       "version_minor": 0
      },
      "text/plain": [
       "Retrieving SummaryDoc documents:   0%|          | 0/8 [00:00<?, ?it/s]"
      ]
     },
     "metadata": {},
     "output_type": "display_data"
    }
   ],
   "source": [
    "api_key = \"0FZIs3w6bTqjjZdjdrc4G0wCQpKj15Ai\"\n",
    "mprs = MPResterSimple(api_key=api_key)\n",
    "df = mprs.query_by_comp(\"Cu\")\n",
    "# df = drop_excess_columns(df)"
   ]
  },
  {
   "cell_type": "code",
   "execution_count": 62,
   "metadata": {},
   "outputs": [],
   "source": [
    "# #make mappings for some string info to keep in the group by dataframe\n",
    "# mp_id_map = {}\n",
    "# for i, mpid in enumerate(df.material_id.values):\n",
    "#     mp_id_map[i] = mpid\n",
    "# df['mpid'] = [k for k in mp_id_map.keys()]\n",
    "\n",
    "# formula_anonymous_map = {}\n",
    "# for i, fa in enumerate(df.formula_anonymous.values):\n",
    "#     formula_anonymous_map[i] = fa\n",
    "# df['formula_anonymous_id'] = [k for k in formula_anonymous_map.keys()]\n",
    "\n",
    "# #group df\n",
    "# select_df= df.groupby(['cs', 'formula_anonymous'], as_index=False).min('energy_above_hull')\n",
    "\n",
    "# #map back string data\n",
    "# select_ids = [str(mp_id_map[mpid]) for mpid in select_df.mpid.values]\n",
    "# select_df['material_id'] = select_ids\n",
    "\n",
    "# formula_anonymous = [str(formula_anonymous_map[idx]) for idx in select_df.formula_anonymous_id.values]\n",
    "# select_df['formula_anonymous'] = formula_anonymous\n",
    "\n",
    "\n",
    "# select_ids"
   ]
  },
  {
   "cell_type": "code",
   "execution_count": 63,
   "metadata": {},
   "outputs": [],
   "source": [
    "# df"
   ]
  },
  {
   "cell_type": "code",
   "execution_count": 64,
   "metadata": {},
   "outputs": [],
   "source": [
    "# select_df = df[df.density > 5]\n",
    "# select_df = df[df.energy_above_hull < 0.05]\n",
    "# select_df"
   ]
  },
  {
   "cell_type": "code",
   "execution_count": 65,
   "metadata": {},
   "outputs": [],
   "source": [
    "# sns.histplot(select_df.energy_above_hull.values, bins=100)"
   ]
  },
  {
   "cell_type": "code",
   "execution_count": null,
   "metadata": {},
   "outputs": [],
   "source": [
    "# _df = select_df[(select_df.nsites < 50) & (select_df.energy_above_hull<0.001)]\n",
    "# bulk_trj = []\n",
    "# for mpid in _df.material_id.values:\n",
    "#         atoms = mprs.get_atoms_by_material_id(mpid)\n",
    "#         atoms.info['mpid'] = str(mpid)\n",
    "#         bulk_trj.append(atoms)"
   ]
  },
  {
   "cell_type": "code",
   "execution_count": null,
   "metadata": {},
   "outputs": [
    {
     "data": {
      "application/vnd.jupyter.widget-view+json": {
       "model_id": "791e614eb0634cbcba4215dc184a94dd",
       "version_major": 2,
       "version_minor": 0
      },
      "text/plain": [
       "Retrieving MaterialsDoc documents:   0%|          | 0/1 [00:00<?, ?it/s]"
      ]
     },
     "metadata": {},
     "output_type": "display_data"
    },
    {
     "data": {
      "application/vnd.jupyter.widget-view+json": {
       "model_id": "8391b554348b49f09ede52f6ea64107c",
       "version_major": 2,
       "version_minor": 0
      },
      "text/plain": [
       "Retrieving MaterialsDoc documents:   0%|          | 0/1 [00:00<?, ?it/s]"
      ]
     },
     "metadata": {},
     "output_type": "display_data"
    },
    {
     "data": {
      "application/vnd.jupyter.widget-view+json": {
       "model_id": "7c3c186a1f5c4e7194b145b8da98289b",
       "version_major": 2,
       "version_minor": 0
      },
      "text/plain": [
       "Retrieving MaterialsDoc documents:   0%|          | 0/1 [00:00<?, ?it/s]"
      ]
     },
     "metadata": {},
     "output_type": "display_data"
    },
    {
     "data": {
      "application/vnd.jupyter.widget-view+json": {
       "model_id": "6a3a091f70bb468dbba6f8a9eaed8692",
       "version_major": 2,
       "version_minor": 0
      },
      "text/plain": [
       "Retrieving MaterialsDoc documents:   0%|          | 0/1 [00:00<?, ?it/s]"
      ]
     },
     "metadata": {},
     "output_type": "display_data"
    },
    {
     "data": {
      "application/vnd.jupyter.widget-view+json": {
       "model_id": "d94074fd0fde4464acd39b68ded9ddb4",
       "version_major": 2,
       "version_minor": 0
      },
      "text/plain": [
       "Retrieving MaterialsDoc documents:   0%|          | 0/1 [00:00<?, ?it/s]"
      ]
     },
     "metadata": {},
     "output_type": "display_data"
    }
   ],
   "source": [
    "manual_select = {\n",
    "    \"Cu\": \"mp-30\",\n",
    "    \"CuO\": \"mp-1692\",\n",
    "    \"PdO\": \"mp-1336\",\n",
    "    \"PdS\": \"mp-20250\",\n",
    "    \"CuS\": \"mp-760381\",\n",
    "}\n",
    "\n",
    "bulk_trj = []\n",
    "for mpid in manual_select.values():\n",
    "    atoms = mprs.get_atoms_by_material_id(mpid)\n",
    "    atoms.info[\"mpid\"] = str(mpid)\n",
    "    atoms.info[\"material_formula\"] = atoms.get_chemical_formula(empirical=True)\n",
    "    bulk_trj.append(atoms)"
   ]
  },
  {
   "cell_type": "code",
   "execution_count": null,
   "metadata": {},
   "outputs": [
    {
     "data": {
      "text/plain": [
       "<Popen: returncode: None args: ['/root/venvs/mace_env/bin/python', '-m', 'as...>"
      ]
     },
     "execution_count": 55,
     "metadata": {},
     "output_type": "execute_result"
    }
   ],
   "source": [
    "view(bulk_trj)"
   ]
  },
  {
   "cell_type": "code",
   "execution_count": 69,
   "metadata": {},
   "outputs": [],
   "source": [
    "construct_recepie = [\n",
    "    {\n",
    "        \"mpid\": \"mp-2\",\n",
    "        \"mi\": \"1#1#1\",\n",
    "        \"iterm\": 0,\n",
    "        \"vacuum\": 10,\n",
    "        \"layers\": 7,\n",
    "        \"min_a\": 8,\n",
    "        \"min_b\": 8,\n",
    "    },\n",
    "    {\n",
    "        \"mpid\": \"mp-2\",\n",
    "        \"mi\": \"2#1#1\",\n",
    "        \"iterm\": 0,\n",
    "        \"vacuum\": 10,\n",
    "        \"layers\": 7,\n",
    "        \"min_a\": 7,\n",
    "        \"min_b\": 6,\n",
    "    },\n",
    "    {\n",
    "        \"mpid\": \"mp-2\",\n",
    "        \"mi\": \"1#0#0\",\n",
    "        \"iterm\": 0,\n",
    "        \"vacuum\": 10,\n",
    "        \"layers\": 7,\n",
    "        \"min_a\": 7,\n",
    "        \"min_b\": 7,\n",
    "    },\n",
    "    #  {\n",
    "    #      'mpid': 'mp-30',\n",
    "    #      'mi': '1#1#1',\n",
    "    #      'iterm': 0,\n",
    "    #      'vacuum': 10,\n",
    "    #      'layers' : 7,\n",
    "    #      'min_a' : 7,\n",
    "    #      'min_b' : 7,\n",
    "    #   },\n",
    "    #   {\n",
    "    #      'mpid': 'mp-30',\n",
    "    #      'mi': '2#1#1',\n",
    "    #      'iterm': 0,\n",
    "    #      'vacuum': 10,\n",
    "    #      'layers' : 7,\n",
    "    #      'min_a' : 7,\n",
    "    #      'min_b' : 6,\n",
    "    #   },\n",
    "    #   {\n",
    "    #      'mpid': 'mp-30',\n",
    "    #      'mi': '1#0#0',\n",
    "    #      'iterm': 0,\n",
    "    #      'vacuum': 10,\n",
    "    #      'layers' : 7,\n",
    "    #      'min_a' : 7,\n",
    "    #      'min_b' : 7,\n",
    "    #   },\n",
    "    #  {\n",
    "    #      'mpid': 'mp-1692',\n",
    "    #      'mi': '1#1#0',\n",
    "    #      'iterm': 2,\n",
    "    #      'vacuum': 10,\n",
    "    #      'layers' : 7,\n",
    "    #      'min_a' : 10,\n",
    "    #      'min_b' : 10,\n",
    "    #   },\n",
    "    #  {\n",
    "    #      'mpid': 'mp-1336',\n",
    "    #      'mi': '1#0#0',\n",
    "    #      'iterm': 0,\n",
    "    #      'vacuum': 10,\n",
    "    #      'layers' : 7,\n",
    "    #      'min_a' : 10,\n",
    "    #      'min_b' : 10,\n",
    "    #   },\n",
    "    #  {\n",
    "    #      'mpid': 'mp-20250',\n",
    "    #      'mi': '0#0#1',\n",
    "    #      'iterm': 0,\n",
    "    #      'vacuum': 10,\n",
    "    #      'layers' : 7,\n",
    "    #      'min_a' : 10,\n",
    "    #      'min_b' : 10,\n",
    "    #   },\n",
    "    #  {\n",
    "    #      'mpid': 'mp-760381',\n",
    "    #      'mi': '1#1#1',\n",
    "    #      'iterm': 0,\n",
    "    #      'vacuum': 10,\n",
    "    #      'layers' : 7,\n",
    "    #      'min_a' : 10,\n",
    "    #      'min_b' : 10,\n",
    "    #   }\n",
    "]"
   ]
  },
  {
   "cell_type": "code",
   "execution_count": 70,
   "metadata": {},
   "outputs": [
    {
     "data": {
      "application/vnd.jupyter.widget-view+json": {
       "model_id": "120bc56887444c168e98c19c48a84309",
       "version_major": 2,
       "version_minor": 0
      },
      "text/plain": [
       "Retrieving MaterialsDoc documents:   0%|          | 0/1 [00:00<?, ?it/s]"
      ]
     },
     "metadata": {},
     "output_type": "display_data"
    },
    {
     "name": "stdout",
     "output_type": "stream",
     "text": [
      "[1, 1, 1]\n",
      "Using provided mi for generation: [1, 1, 1]\n"
     ]
    },
    {
     "data": {
      "application/vnd.jupyter.widget-view+json": {
       "model_id": "51ed6a3ee852489d9ce3f9ec8bb19e5e",
       "version_major": 2,
       "version_minor": 0
      },
      "text/plain": [
       "Retrieving MaterialsDoc documents:   0%|          | 0/1 [00:00<?, ?it/s]"
      ]
     },
     "metadata": {},
     "output_type": "display_data"
    },
    {
     "name": "stdout",
     "output_type": "stream",
     "text": [
      "[2, 1, 1]\n",
      "Using provided mi for generation: [2, 1, 1]\n"
     ]
    },
    {
     "data": {
      "application/vnd.jupyter.widget-view+json": {
       "model_id": "86e9956a8c2049d09795ee0e68284f74",
       "version_major": 2,
       "version_minor": 0
      },
      "text/plain": [
       "Retrieving MaterialsDoc documents:   0%|          | 0/1 [00:00<?, ?it/s]"
      ]
     },
     "metadata": {},
     "output_type": "display_data"
    },
    {
     "name": "stdout",
     "output_type": "stream",
     "text": [
      "[1, 0, 0]\n",
      "Using provided mi for generation: [1, 0, 0]\n"
     ]
    }
   ],
   "source": [
    "slab_trj = []\n",
    "for r in construct_recepie:\n",
    "    mpid = r[\"mpid\"]\n",
    "    atoms = mprs.get_atoms_by_material_id(mpid)\n",
    "    r[\"mpid\"] = str(mpid)\n",
    "    r[\"material_formula\"] = atoms.get_chemical_formula(empirical=True)\n",
    "\n",
    "    mi = str_to_mi(r[\"mi\"])\n",
    "    print(mi)\n",
    "\n",
    "    out_atoms = get_scalled_slabs(\n",
    "        atoms,\n",
    "        layers=r[\"layers\"],\n",
    "        vacuum=r[\"vacuum\"],\n",
    "        mi=mi,\n",
    "        min_a=r[\"min_a\"],\n",
    "        min_b=r[\"min_b\"],\n",
    "    )[r[\"iterm\"]]\n",
    "    r[\"mi\"] = mi_to_str(mi)\n",
    "    out_atoms.info[\"slab_info\"] = r\n",
    "\n",
    "    pop_k = [k for k in out_atoms.info.keys() if k not in [\"slab_info\"]]\n",
    "    for k in pop_k:\n",
    "        out_atoms.info.pop(k)\n",
    "\n",
    "    slab_trj.append(out_atoms)"
   ]
  },
  {
   "cell_type": "code",
   "execution_count": 71,
   "metadata": {},
   "outputs": [
    {
     "data": {
      "text/plain": [
       "<Popen: returncode: None args: ['/root/venvs/mace_env/bin/python', '-m', 'as...>"
      ]
     },
     "execution_count": 71,
     "metadata": {},
     "output_type": "execute_result"
    }
   ],
   "source": [
    "view(slab_trj)"
   ]
  },
  {
   "cell_type": "code",
   "execution_count": 72,
   "metadata": {},
   "outputs": [
    {
     "name": "stdout",
     "output_type": "stream",
     "text": [
      "{'slab_info': {'mpid': 'mp-2', 'mi': '1#1#1', 'iterm': 0, 'vacuum': 10, 'layers': 7, 'min_a': 8, 'min_b': 8, 'material_formula': 'Pd'}}\n",
      "{'slab_info': {'mpid': 'mp-2', 'mi': '2#1#1', 'iterm': 0, 'vacuum': 10, 'layers': 7, 'min_a': 7, 'min_b': 6, 'material_formula': 'Pd'}}\n",
      "{'slab_info': {'mpid': 'mp-2', 'mi': '1#0#0', 'iterm': 0, 'vacuum': 10, 'layers': 7, 'min_a': 7, 'min_b': 7, 'material_formula': 'Pd'}}\n"
     ]
    }
   ],
   "source": [
    "# surfaces = []\n",
    "for atoms in slab_trj:\n",
    "    print(atoms.info)\n",
    "    s = Surface(atoms, precision=0.5)\n",
    "    s.sym_reduce()\n",
    "    surfaces.append(s)"
   ]
  },
  {
   "cell_type": "code",
   "execution_count": 73,
   "metadata": {},
   "outputs": [
    {
     "name": "stdout",
     "output_type": "stream",
     "text": [
      "{'slab_info': {'mpid': 'mp-30', 'mi': '1#1#1', 'iterm': 0, 'vacuum': 10, 'layers': 7, 'min_a': 7, 'min_b': 7, 'material_formula': 'Cu'}}\n",
      "{'slab_info': {'mpid': 'mp-30', 'mi': '2#1#1', 'iterm': 0, 'vacuum': 10, 'layers': 7, 'min_a': 7, 'min_b': 6, 'material_formula': 'Cu'}}\n",
      "{'slab_info': {'mpid': 'mp-30', 'mi': '1#0#0', 'iterm': 0, 'vacuum': 10, 'layers': 7, 'min_a': 7, 'min_b': 7, 'material_formula': 'Cu'}}\n",
      "{'slab_info': {'mpid': 'mp-1692', 'mi': '1#1#0', 'iterm': 2, 'vacuum': 10, 'layers': 7, 'min_a': 10, 'min_b': 10, 'material_formula': 'CuO'}}\n",
      "{'slab_info': {'mpid': 'mp-1336', 'mi': '1#0#0', 'iterm': 0, 'vacuum': 10, 'layers': 7, 'min_a': 10, 'min_b': 10, 'material_formula': 'OPd'}}\n",
      "{'slab_info': {'mpid': 'mp-20250', 'mi': '0#0#1', 'iterm': 0, 'vacuum': 10, 'layers': 7, 'min_a': 10, 'min_b': 10, 'material_formula': 'PdS'}}\n",
      "{'slab_info': {'mpid': 'mp-760381', 'mi': '1#1#1', 'iterm': 0, 'vacuum': 10, 'layers': 7, 'min_a': 10, 'min_b': 10, 'material_formula': 'CuS'}}\n",
      "{'slab_info': {'mpid': 'mp-2', 'mi': '1#1#1', 'iterm': 0, 'vacuum': 10, 'layers': 7, 'min_a': 8, 'min_b': 8, 'material_formula': 'Pd'}}\n",
      "{'slab_info': {'mpid': 'mp-2', 'mi': '2#1#1', 'iterm': 0, 'vacuum': 10, 'layers': 7, 'min_a': 7, 'min_b': 6, 'material_formula': 'Pd'}}\n",
      "{'slab_info': {'mpid': 'mp-2', 'mi': '1#0#0', 'iterm': 0, 'vacuum': 10, 'layers': 7, 'min_a': 7, 'min_b': 7, 'material_formula': 'Pd'}}\n"
     ]
    }
   ],
   "source": [
    "for s in surfaces:\n",
    "    print(s.atoms.info)"
   ]
  },
  {
   "cell_type": "code",
   "execution_count": 82,
   "metadata": {},
   "outputs": [
    {
     "data": {
      "text/plain": [
       "{'numbers': array([47, 47, 47, 47, 47, 47, 47, 47, 47, 47, 47, 47, 47, 47, 47, 47, 47,\n",
       "        47, 47, 47, 47, 47, 47, 47, 47, 47, 47, 47, 47, 47, 47, 47, 47, 47,\n",
       "        47, 47,  1, 47, 47, 47, 47,  1,  1,  1,  1,  1,  1,  1,  1,  1,  1,\n",
       "         1,  1,  1,  1,  1,  1,  1,  1,  1,  1]),\n",
       " 'positions': array([[ 1.38497525e+00,  1.38497525e+00,  1.00000000e+01],\n",
       "        [ 1.61728331e-16, -4.53324235e-16,  1.19586508e+01],\n",
       "        [ 1.38497525e+00,  1.38497525e+00,  1.39173016e+01],\n",
       "        [ 0.00000000e+00,  0.00000000e+00,  1.58759524e+01],\n",
       "        [ 1.38497525e+00,  4.15492576e+00,  1.00000000e+01],\n",
       "        [ 1.61728331e-16,  2.76995051e+00,  1.19586508e+01],\n",
       "        [ 1.38497525e+00,  4.15492576e+00,  1.39173016e+01],\n",
       "        [ 0.00000000e+00,  2.76995051e+00,  1.58759524e+01],\n",
       "        [ 1.38497525e+00,  6.92487627e+00,  1.00000000e+01],\n",
       "        [ 1.61728331e-16,  5.53990102e+00,  1.19586508e+01],\n",
       "        [ 1.38497525e+00,  6.92487627e+00,  1.39173016e+01],\n",
       "        [ 0.00000000e+00,  5.53990102e+00,  1.58759524e+01],\n",
       "        [ 4.15492576e+00,  1.38497525e+00,  1.00000000e+01],\n",
       "        [ 2.76995051e+00, -4.53324235e-16,  1.19586508e+01],\n",
       "        [ 4.15492576e+00,  1.38497525e+00,  1.39173016e+01],\n",
       "        [ 2.76995051e+00,  0.00000000e+00,  1.58759524e+01],\n",
       "        [ 4.15492576e+00,  4.15492576e+00,  1.00000000e+01],\n",
       "        [ 2.76995051e+00,  2.76995051e+00,  1.19586508e+01],\n",
       "        [ 4.15492576e+00,  4.15492576e+00,  1.39173016e+01],\n",
       "        [ 2.76995051e+00,  2.76995051e+00,  1.58759524e+01],\n",
       "        [ 4.15492576e+00,  6.92487627e+00,  1.00000000e+01],\n",
       "        [ 2.76995051e+00,  5.53990102e+00,  1.19586508e+01],\n",
       "        [ 4.15492576e+00,  6.92487627e+00,  1.39173016e+01],\n",
       "        [ 2.76995051e+00,  5.53990102e+00,  1.58759524e+01],\n",
       "        [ 6.92487627e+00,  1.38497525e+00,  1.00000000e+01],\n",
       "        [ 5.53990102e+00, -4.53324235e-16,  1.19586508e+01],\n",
       "        [ 6.92487627e+00,  1.38497525e+00,  1.39173016e+01],\n",
       "        [ 5.53990102e+00,  0.00000000e+00,  1.58759524e+01],\n",
       "        [ 6.92487627e+00,  4.15492576e+00,  1.00000000e+01],\n",
       "        [ 5.53990102e+00,  2.76995051e+00,  1.19586508e+01],\n",
       "        [ 6.92487627e+00,  4.15492576e+00,  1.39173016e+01],\n",
       "        [ 5.53990102e+00,  2.76995051e+00,  1.58759524e+01],\n",
       "        [ 6.92487627e+00,  6.92487627e+00,  1.00000000e+01],\n",
       "        [ 5.53990102e+00,  5.53990102e+00,  1.19586508e+01],\n",
       "        [ 6.92487627e+00,  6.92487627e+00,  1.39173016e+01],\n",
       "        [ 5.53990102e+00,  5.53990102e+00,  1.58759524e+01],\n",
       "        [ 6.92487627e+00,  6.92487627e+00,  1.68759524e+01],\n",
       "        [ 0.00000000e+00,  0.00000000e+00,  1.68759524e+01],\n",
       "        [ 0.00000000e+00,  5.53990102e+00,  1.68759524e+01],\n",
       "        [ 5.53990102e+00,  0.00000000e+00,  1.68759524e+01],\n",
       "        [ 5.53990102e+00,  5.53990102e+00,  1.68759524e+01],\n",
       "        [ 6.92041250e+00,  6.92041250e+00,  1.69757529e+01],\n",
       "        [ 6.91594874e+00,  6.91594874e+00,  1.70755535e+01],\n",
       "        [ 6.91148497e+00,  6.91148497e+00,  1.71753540e+01],\n",
       "        [ 6.90702120e+00,  6.90702120e+00,  1.72751546e+01],\n",
       "        [ 6.90255744e+00,  6.90255744e+00,  1.73749551e+01],\n",
       "        [ 6.89809367e+00,  6.89809367e+00,  1.74747557e+01],\n",
       "        [ 6.89362990e+00,  6.89362990e+00,  1.75745562e+01],\n",
       "        [ 6.88916614e+00,  6.88916614e+00,  1.76743568e+01],\n",
       "        [ 6.88470237e+00,  6.88470237e+00,  1.77741573e+01],\n",
       "        [ 6.88023860e+00,  6.88023860e+00,  1.78739579e+01],\n",
       "        [ 6.87577484e+00,  6.87577484e+00,  1.79737584e+01],\n",
       "        [ 6.87131107e+00,  6.87131107e+00,  1.80735590e+01],\n",
       "        [ 6.86684730e+00,  6.86684730e+00,  1.81733595e+01],\n",
       "        [ 6.86238354e+00,  6.86238354e+00,  1.82731600e+01],\n",
       "        [ 6.85791977e+00,  6.85791977e+00,  1.83729606e+01],\n",
       "        [ 6.85345600e+00,  6.85345600e+00,  1.84727611e+01],\n",
       "        [ 6.84899224e+00,  6.84899224e+00,  1.85725617e+01],\n",
       "        [ 6.84452847e+00,  6.84452847e+00,  1.86723622e+01],\n",
       "        [ 6.84006471e+00,  6.84006471e+00,  1.87721628e+01],\n",
       "        [ 6.83560094e+00,  6.83560094e+00,  1.88719633e+01]]),\n",
       " 'initial_magmoms': array([0., 0., 0., 0., 0., 0., 0., 0., 0., 0., 0., 0., 0., 0., 0., 0., 0.,\n",
       "        0., 0., 0., 0., 0., 0., 0., 0., 0., 0., 0., 0., 0., 0., 0., 0., 0.,\n",
       "        0., 0., 0., 0., 0., 0., 0., 0., 0., 0., 0., 0., 0., 0., 0., 0., 0.,\n",
       "        0., 0., 0., 0., 0., 0., 0., 0., 0., 0.]),\n",
       " 'surface_atoms': array([-1., -0., -0.,  1., -1., -0., -0.,  1., -1., -0., -0.,  1., -1.,\n",
       "        -0., -0.,  1., -1., -0., -0.,  1., -1., -0., -0.,  1., -1., -0.,\n",
       "        -0.,  1., -1., -0., -0.,  1., -1., -0., -0.,  1.,  0.,  1.,  1.,\n",
       "         1.,  1.,  0.,  0.,  0.,  0.,  0.,  0.,  0.,  0.,  0.,  0.,  0.,\n",
       "         0.,  0.,  0.,  0.,  0.,  0.,  0.,  0.,  0.]),\n",
       " 'tags': array([4, 3, 2, 1, 4, 3, 2, 1, 4, 3, 2, 1, 4, 3, 2, 1, 4, 3, 2, 1, 4, 3,\n",
       "        2, 1, 4, 3, 2, 1, 4, 3, 2, 1, 4, 3, 2, 1, 0, 1, 1, 1, 1, 0, 0, 0,\n",
       "        0, 0, 0, 0, 0, 0, 0, 0, 0, 0, 0, 0, 0, 0, 0, 0, 0])}"
      ]
     },
     "execution_count": 82,
     "metadata": {},
     "output_type": "execute_result"
    }
   ],
   "source": [
    "atoms.arrays[\"numbers\"] += 1\n",
    "atoms.arrays"
   ]
  },
  {
   "cell_type": "code",
   "execution_count": 87,
   "metadata": {},
   "outputs": [],
   "source": [
    "sites_traj = []\n",
    "for s in surfaces:\n",
    "    for i in s.site_df.index.values:\n",
    "        atoms = s.atoms.copy()\n",
    "        atoms.arrays[\"numbers\"] += 1\n",
    "        site = s.view_site(i, return_atoms=True)\n",
    "        site.positions += [0, 0, 0.2]\n",
    "        atoms += site\n",
    "        # site_info = s.site_df.loc[i].to_dict()\n",
    "        # atoms.info['site_info'] =site_info\n",
    "        sites_traj.append(atoms * [2, 2, 1])\n",
    "# write('./sites_traj.xyz', sites_traj)"
   ]
  },
  {
   "cell_type": "code",
   "execution_count": 88,
   "metadata": {},
   "outputs": [
    {
     "data": {
      "text/plain": [
       "<Popen: returncode: None args: ['/root/venvs/mace_env/bin/python', '-m', 'as...>"
      ]
     },
     "execution_count": 88,
     "metadata": {},
     "output_type": "execute_result"
    }
   ],
   "source": [
    "view(sites_traj)"
   ]
  },
  {
   "cell_type": "code",
   "execution_count": null,
   "metadata": {},
   "outputs": [
    {
     "data": {
      "text/html": [
       "<div>\n",
       "<style scoped>\n",
       "    .dataframe tbody tr th:only-of-type {\n",
       "        vertical-align: middle;\n",
       "    }\n",
       "\n",
       "    .dataframe tbody tr th {\n",
       "        vertical-align: top;\n",
       "    }\n",
       "\n",
       "    .dataframe thead th {\n",
       "        text-align: right;\n",
       "    }\n",
       "</style>\n",
       "<table border=\"1\" class=\"dataframe\">\n",
       "  <thead>\n",
       "    <tr style=\"text-align: right;\">\n",
       "      <th></th>\n",
       "    </tr>\n",
       "  </thead>\n",
       "  <tbody>\n",
       "  </tbody>\n",
       "</table>\n",
       "</div>"
      ],
      "text/plain": [
       "Empty DataFrame\n",
       "Columns: []\n",
       "Index: []"
      ]
     },
     "execution_count": 155,
     "metadata": {},
     "output_type": "execute_result"
    }
   ],
   "source": [
    "xx = pd.DataFrame({})\n",
    "xx.sort"
   ]
  },
  {
   "cell_type": "code",
   "execution_count": null,
   "metadata": {},
   "outputs": [],
   "source": [
    "# for s in surfaces:\n",
    "#     s.site_df.to_csv(f'{s.atoms.info['slab_info']['mpid']}_cache_site_df.csv')"
   ]
  },
  {
   "cell_type": "code",
   "execution_count": null,
   "metadata": {},
   "outputs": [],
   "source": [
    "# from dscribe.descriptors import SOAP\n",
    "\n",
    "# species = get_all_species_in_traj(trj)\n",
    "# r_cut = 6.0\n",
    "# n_max = 8\n",
    "# l_max = 6\n",
    "\n",
    "# # Setting up the SOAP descriptor\n",
    "# soap = SOAP(\n",
    "#     species=species,\n",
    "#     periodic=True,\n",
    "#     r_cut=r_cut,\n",
    "#     n_max=n_max,\n",
    "#     l_max=l_max,\n",
    "# )\n",
    "\n",
    "# view_trj= []\n",
    "# site_pos=[]\n",
    "# soaps = []\n",
    "\n",
    "# for s in surfaces:\n",
    "#     for i in s.site_df.index.values:\n",
    "#         pos = s.site_df.coordinates.loc[i]\n",
    "#         view_trj.append(s.view_site(i, return_atoms=True))\n",
    "#         site_pos.append(pos)\n",
    "#         soaps.append(soap.create(s.atoms, centers=[pos]))"
   ]
  }
 ],
 "metadata": {
  "kernelspec": {
   "display_name": "mace_venv",
   "language": "python",
   "name": "mace_venv"
  },
  "language_info": {
   "codemirror_mode": {
    "name": "ipython",
    "version": 3
   },
   "file_extension": ".py",
   "mimetype": "text/x-python",
   "name": "python",
   "nbconvert_exporter": "python",
   "pygments_lexer": "ipython3",
   "version": "3.12.3"
  }
 },
 "nbformat": 4,
 "nbformat_minor": 2
}
